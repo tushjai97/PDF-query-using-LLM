{
  "cells": [
    {
      "cell_type": "markdown",
      "metadata": {
        "id": "view-in-github",
        "colab_type": "text"
      },
      "source": [
        "<a href=\"https://colab.research.google.com/github/tushjai97/PDF-query-using-LLM/blob/main/PDF_query_Langchain.ipynb\" target=\"_parent\"><img src=\"https://colab.research.google.com/assets/colab-badge.svg\" alt=\"Open In Colab\"/></a>"
      ]
    },
    {
      "cell_type": "markdown",
      "metadata": {
        "id": "f8zt3NIsmb8u"
      },
      "source": [
        "Querying PDF with Astra and Langchain\n"
      ]
    },
    {
      "cell_type": "code",
      "execution_count": null,
      "metadata": {
        "colab": {
          "base_uri": "https://localhost:8080/"
        },
        "id": "x4DKrBF4mWba",
        "outputId": "16c03d31-44d9-42c0-b2b1-afa735caf89d"
      },
      "outputs": [
        {
          "name": "stdout",
          "output_type": "stream",
          "text": [
            "\u001b[2K     \u001b[90m━━━━━━━━━━━━━━━━━━━━━━━━━━━━━━━━━━━━━━━━\u001b[0m \u001b[32m44.9/44.9 kB\u001b[0m \u001b[31m691.0 kB/s\u001b[0m eta \u001b[36m0:00:00\u001b[0m\n",
            "\u001b[2K     \u001b[90m━━━━━━━━━━━━━━━━━━━━━━━━━━━━━━━━━━━━━━━━\u001b[0m \u001b[32m542.0/542.0 kB\u001b[0m \u001b[31m4.2 MB/s\u001b[0m eta \u001b[36m0:00:00\u001b[0m\n",
            "\u001b[2K     \u001b[90m━━━━━━━━━━━━━━━━━━━━━━━━━━━━━━━━━━━━━━━━\u001b[0m \u001b[32m973.5/973.5 kB\u001b[0m \u001b[31m16.2 MB/s\u001b[0m eta \u001b[36m0:00:00\u001b[0m\n",
            "\u001b[2K     \u001b[90m━━━━━━━━━━━━━━━━━━━━━━━━━━━━━━━━━━━━━━━━\u001b[0m \u001b[32m320.6/320.6 kB\u001b[0m \u001b[31m23.0 MB/s\u001b[0m eta \u001b[36m0:00:00\u001b[0m\n",
            "\u001b[2K     \u001b[90m━━━━━━━━━━━━━━━━━━━━━━━━━━━━━━━━━━━━━━━━\u001b[0m \u001b[32m1.1/1.1 MB\u001b[0m \u001b[31m40.6 MB/s\u001b[0m eta \u001b[36m0:00:00\u001b[0m\n",
            "\u001b[2K     \u001b[90m━━━━━━━━━━━━━━━━━━━━━━━━━━━━━━━━━━━━━━━━\u001b[0m \u001b[32m18.9/18.9 MB\u001b[0m \u001b[31m42.2 MB/s\u001b[0m eta \u001b[36m0:00:00\u001b[0m\n",
            "\u001b[2K     \u001b[90m━━━━━━━━━━━━━━━━━━━━━━━━━━━━━━━━━━━━━━━━\u001b[0m \u001b[32m116.3/116.3 kB\u001b[0m \u001b[31m12.7 MB/s\u001b[0m eta \u001b[36m0:00:00\u001b[0m\n",
            "\u001b[2K     \u001b[90m━━━━━━━━━━━━━━━━━━━━━━━━━━━━━━━━━━━━━━━━\u001b[0m \u001b[32m194.1/194.1 kB\u001b[0m \u001b[31m20.3 MB/s\u001b[0m eta \u001b[36m0:00:00\u001b[0m\n",
            "\u001b[2K     \u001b[90m━━━━━━━━━━━━━━━━━━━━━━━━━━━━━━━━━━━━━━━━\u001b[0m \u001b[32m134.8/134.8 kB\u001b[0m \u001b[31m15.3 MB/s\u001b[0m eta \u001b[36m0:00:00\u001b[0m\n",
            "\u001b[2K     \u001b[90m━━━━━━━━━━━━━━━━━━━━━━━━━━━━━━━━━━━━━━━━\u001b[0m \u001b[32m308.5/308.5 kB\u001b[0m \u001b[31m26.8 MB/s\u001b[0m eta \u001b[36m0:00:00\u001b[0m\n",
            "\u001b[2K     \u001b[90m━━━━━━━━━━━━━━━━━━━━━━━━━━━━━━━━━━━━━━━━\u001b[0m \u001b[32m122.8/122.8 kB\u001b[0m \u001b[31m15.2 MB/s\u001b[0m eta \u001b[36m0:00:00\u001b[0m\n",
            "\u001b[2K     \u001b[90m━━━━━━━━━━━━━━━━━━━━━━━━━━━━━━━━━━━━━━━━\u001b[0m \u001b[32m75.6/75.6 kB\u001b[0m \u001b[31m9.4 MB/s\u001b[0m eta \u001b[36m0:00:00\u001b[0m\n",
            "\u001b[2K     \u001b[90m━━━━━━━━━━━━━━━━━━━━━━━━━━━━━━━━━━━━━━━━\u001b[0m \u001b[32m77.9/77.9 kB\u001b[0m \u001b[31m9.0 MB/s\u001b[0m eta \u001b[36m0:00:00\u001b[0m\n",
            "\u001b[2K     \u001b[90m━━━━━━━━━━━━━━━━━━━━━━━━━━━━━━━━━━━━━━━━\u001b[0m \u001b[32m58.3/58.3 kB\u001b[0m \u001b[31m6.6 MB/s\u001b[0m eta \u001b[36m0:00:00\u001b[0m\n",
            "\u001b[2K     \u001b[90m━━━━━━━━━━━━━━━━━━━━━━━━━━━━━━━━━━━━━━━━\u001b[0m \u001b[32m53.0/53.0 kB\u001b[0m \u001b[31m5.9 MB/s\u001b[0m eta \u001b[36m0:00:00\u001b[0m\n",
            "\u001b[2K     \u001b[90m━━━━━━━━━━━━━━━━━━━━━━━━━━━━━━━━━━━━━━━━\u001b[0m \u001b[32m142.5/142.5 kB\u001b[0m \u001b[31m17.1 MB/s\u001b[0m eta \u001b[36m0:00:00\u001b[0m\n",
            "\u001b[?25h"
          ]
        }
      ],
      "source": [
        "!pip install -q cassio datasets langchain openai tiktoken"
      ]
    },
    {
      "cell_type": "code",
      "execution_count": null,
      "metadata": {
        "colab": {
          "base_uri": "https://localhost:8080/"
        },
        "id": "2wIxTuVaqIfo",
        "outputId": "c5702c01-600b-470d-c155-47c9bd996d1a"
      },
      "outputs": [
        {
          "name": "stdout",
          "output_type": "stream",
          "text": [
            "Collecting langchain-community\n",
            "  Downloading langchain_community-0.2.1-py3-none-any.whl (2.1 MB)\n",
            "\u001b[2K     \u001b[90m━━━━━━━━━━━━━━━━━━━━━━━━━━━━━━━━━━━━━━━━\u001b[0m \u001b[32m2.1/2.1 MB\u001b[0m \u001b[31m8.7 MB/s\u001b[0m eta \u001b[36m0:00:00\u001b[0m\n",
            "\u001b[?25hRequirement already satisfied: PyYAML>=5.3 in /usr/local/lib/python3.10/dist-packages (from langchain-community) (6.0.1)\n",
            "Requirement already satisfied: SQLAlchemy<3,>=1.4 in /usr/local/lib/python3.10/dist-packages (from langchain-community) (2.0.30)\n",
            "Requirement already satisfied: aiohttp<4.0.0,>=3.8.3 in /usr/local/lib/python3.10/dist-packages (from langchain-community) (3.9.5)\n",
            "Collecting dataclasses-json<0.7,>=0.5.7 (from langchain-community)\n",
            "  Downloading dataclasses_json-0.6.6-py3-none-any.whl (28 kB)\n",
            "Requirement already satisfied: langchain<0.3.0,>=0.2.0 in /usr/local/lib/python3.10/dist-packages (from langchain-community) (0.2.1)\n",
            "Requirement already satisfied: langchain-core<0.3.0,>=0.2.0 in /usr/local/lib/python3.10/dist-packages (from langchain-community) (0.2.1)\n",
            "Requirement already satisfied: langsmith<0.2.0,>=0.1.0 in /usr/local/lib/python3.10/dist-packages (from langchain-community) (0.1.63)\n",
            "Requirement already satisfied: numpy<2,>=1 in /usr/local/lib/python3.10/dist-packages (from langchain-community) (1.25.2)\n",
            "Requirement already satisfied: requests<3,>=2 in /usr/local/lib/python3.10/dist-packages (from langchain-community) (2.31.0)\n",
            "Requirement already satisfied: tenacity<9.0.0,>=8.1.0 in /usr/local/lib/python3.10/dist-packages (from langchain-community) (8.3.0)\n",
            "Requirement already satisfied: aiosignal>=1.1.2 in /usr/local/lib/python3.10/dist-packages (from aiohttp<4.0.0,>=3.8.3->langchain-community) (1.3.1)\n",
            "Requirement already satisfied: attrs>=17.3.0 in /usr/local/lib/python3.10/dist-packages (from aiohttp<4.0.0,>=3.8.3->langchain-community) (23.2.0)\n",
            "Requirement already satisfied: frozenlist>=1.1.1 in /usr/local/lib/python3.10/dist-packages (from aiohttp<4.0.0,>=3.8.3->langchain-community) (1.4.1)\n",
            "Requirement already satisfied: multidict<7.0,>=4.5 in /usr/local/lib/python3.10/dist-packages (from aiohttp<4.0.0,>=3.8.3->langchain-community) (6.0.5)\n",
            "Requirement already satisfied: yarl<2.0,>=1.0 in /usr/local/lib/python3.10/dist-packages (from aiohttp<4.0.0,>=3.8.3->langchain-community) (1.9.4)\n",
            "Requirement already satisfied: async-timeout<5.0,>=4.0 in /usr/local/lib/python3.10/dist-packages (from aiohttp<4.0.0,>=3.8.3->langchain-community) (4.0.3)\n",
            "Collecting marshmallow<4.0.0,>=3.18.0 (from dataclasses-json<0.7,>=0.5.7->langchain-community)\n",
            "  Downloading marshmallow-3.21.2-py3-none-any.whl (49 kB)\n",
            "\u001b[2K     \u001b[90m━━━━━━━━━━━━━━━━━━━━━━━━━━━━━━━━━━━━━━━━\u001b[0m \u001b[32m49.3/49.3 kB\u001b[0m \u001b[31m6.0 MB/s\u001b[0m eta \u001b[36m0:00:00\u001b[0m\n",
            "\u001b[?25hCollecting typing-inspect<1,>=0.4.0 (from dataclasses-json<0.7,>=0.5.7->langchain-community)\n",
            "  Downloading typing_inspect-0.9.0-py3-none-any.whl (8.8 kB)\n",
            "Requirement already satisfied: langchain-text-splitters<0.3.0,>=0.2.0 in /usr/local/lib/python3.10/dist-packages (from langchain<0.3.0,>=0.2.0->langchain-community) (0.2.0)\n",
            "Requirement already satisfied: pydantic<3,>=1 in /usr/local/lib/python3.10/dist-packages (from langchain<0.3.0,>=0.2.0->langchain-community) (2.7.1)\n",
            "Requirement already satisfied: jsonpatch<2.0,>=1.33 in /usr/local/lib/python3.10/dist-packages (from langchain-core<0.3.0,>=0.2.0->langchain-community) (1.33)\n",
            "Requirement already satisfied: packaging<24.0,>=23.2 in /usr/local/lib/python3.10/dist-packages (from langchain-core<0.3.0,>=0.2.0->langchain-community) (23.2)\n",
            "Requirement already satisfied: orjson<4.0.0,>=3.9.14 in /usr/local/lib/python3.10/dist-packages (from langsmith<0.2.0,>=0.1.0->langchain-community) (3.10.3)\n",
            "Requirement already satisfied: charset-normalizer<4,>=2 in /usr/local/lib/python3.10/dist-packages (from requests<3,>=2->langchain-community) (3.3.2)\n",
            "Requirement already satisfied: idna<4,>=2.5 in /usr/local/lib/python3.10/dist-packages (from requests<3,>=2->langchain-community) (3.7)\n",
            "Requirement already satisfied: urllib3<3,>=1.21.1 in /usr/local/lib/python3.10/dist-packages (from requests<3,>=2->langchain-community) (2.0.7)\n",
            "Requirement already satisfied: certifi>=2017.4.17 in /usr/local/lib/python3.10/dist-packages (from requests<3,>=2->langchain-community) (2024.2.2)\n",
            "Requirement already satisfied: typing-extensions>=4.6.0 in /usr/local/lib/python3.10/dist-packages (from SQLAlchemy<3,>=1.4->langchain-community) (4.11.0)\n",
            "Requirement already satisfied: greenlet!=0.4.17 in /usr/local/lib/python3.10/dist-packages (from SQLAlchemy<3,>=1.4->langchain-community) (3.0.3)\n",
            "Requirement already satisfied: jsonpointer>=1.9 in /usr/local/lib/python3.10/dist-packages (from jsonpatch<2.0,>=1.33->langchain-core<0.3.0,>=0.2.0->langchain-community) (2.4)\n",
            "Requirement already satisfied: annotated-types>=0.4.0 in /usr/local/lib/python3.10/dist-packages (from pydantic<3,>=1->langchain<0.3.0,>=0.2.0->langchain-community) (0.7.0)\n",
            "Requirement already satisfied: pydantic-core==2.18.2 in /usr/local/lib/python3.10/dist-packages (from pydantic<3,>=1->langchain<0.3.0,>=0.2.0->langchain-community) (2.18.2)\n",
            "Collecting mypy-extensions>=0.3.0 (from typing-inspect<1,>=0.4.0->dataclasses-json<0.7,>=0.5.7->langchain-community)\n",
            "  Downloading mypy_extensions-1.0.0-py3-none-any.whl (4.7 kB)\n",
            "Installing collected packages: mypy-extensions, marshmallow, typing-inspect, dataclasses-json, langchain-community\n",
            "Successfully installed dataclasses-json-0.6.6 langchain-community-0.2.1 marshmallow-3.21.2 mypy-extensions-1.0.0 typing-inspect-0.9.0\n"
          ]
        }
      ],
      "source": [
        "!pip install -U langchain-community"
      ]
    },
    {
      "cell_type": "code",
      "execution_count": null,
      "metadata": {
        "id": "TsPJ8Exgpic8"
      },
      "outputs": [],
      "source": [
        "from langchain.vectorstores.cassandra import Cassandra\n",
        "from langchain.indexes.vectorstore import VectorStoreIndexWrapper\n",
        "from langchain.llms import OpenAI\n",
        "from langchain.embeddings import OpenAIEmbeddings\n",
        "\n",
        "from datasets import load_dataset\n",
        "\n",
        "import cassio"
      ]
    },
    {
      "cell_type": "code",
      "execution_count": null,
      "metadata": {
        "colab": {
          "base_uri": "https://localhost:8080/"
        },
        "id": "rX6g5mn8qOXO",
        "outputId": "7ecb6fd7-af74-4c17-d1a3-226c6b076ca3"
      },
      "outputs": [
        {
          "name": "stdout",
          "output_type": "stream",
          "text": [
            "Collecting PyPDF2\n",
            "  Downloading pypdf2-3.0.1-py3-none-any.whl (232 kB)\n",
            "\u001b[2K     \u001b[90m━━━━━━━━━━━━━━━━━━━━━━━━━━━━━━━━━━━━━━━━\u001b[0m \u001b[32m232.6/232.6 kB\u001b[0m \u001b[31m1.8 MB/s\u001b[0m eta \u001b[36m0:00:00\u001b[0m\n",
            "\u001b[?25hInstalling collected packages: PyPDF2\n",
            "Successfully installed PyPDF2-3.0.1\n"
          ]
        }
      ],
      "source": [
        "!pip install PyPDF2"
      ]
    },
    {
      "cell_type": "code",
      "execution_count": null,
      "metadata": {
        "id": "jsaOwdXurFtq"
      },
      "outputs": [],
      "source": [
        "from PyPDF2 import PdfReader"
      ]
    },
    {
      "cell_type": "markdown",
      "metadata": {
        "id": "YlJHGvsStFgP"
      },
      "source": [
        "###Setup"
      ]
    },
    {
      "cell_type": "markdown",
      "metadata": {
        "id": "UN9NAiGmtH5g"
      },
      "source": [
        "##Provide Your Secrets"
      ]
    },
    {
      "cell_type": "markdown",
      "metadata": {
        "id": "6vxFab2PtMt7"
      },
      "source": [
        "Replace the following with your Astra DB connection details and your OpenAPI key\n"
      ]
    },
    {
      "cell_type": "code",
      "execution_count": null,
      "metadata": {
        "id": "aiFOobritYzQ"
      },
      "outputs": [],
      "source": [
        "ASTRA_DB_APPLICATION_TOKEN = \" \"\n",
        "ASTRA_DB_ID = \" \"\n",
        "OPENAI_API_KEY = \" \""
      ]
    },
    {
      "cell_type": "code",
      "execution_count": null,
      "metadata": {
        "id": "648J-Ysaw7Cv"
      },
      "outputs": [],
      "source": [
        "pdfreader = PdfReader(\"EmergencyPandemic Preparedness Toolkit (4)_0_0.pdf\")"
      ]
    },
    {
      "cell_type": "code",
      "execution_count": null,
      "metadata": {
        "id": "QAZZFxWvxKgz"
      },
      "outputs": [],
      "source": [
        "from typing_extensions import Concatenate\n",
        "\n",
        "raw_text = ''\n",
        "for i,page in enumerate(pdfreader.pages):\n",
        "  content = page.extract_text()\n",
        "  if content:\n",
        "    raw_text +=content\n"
      ]
    },
    {
      "cell_type": "code",
      "execution_count": null,
      "metadata": {
        "colab": {
          "base_uri": "https://localhost:8080/",
          "height": 171
        },
        "id": "2Isf2jSSyFWZ",
        "outputId": "cb369c31-9495-4370-aa5f-bc1339fca3bd"
      },
      "outputs": [
        {
          "data": {
            "application/vnd.google.colaboratory.intrinsic+json": {
              "type": "string"
            },
            "text/plain": [
              "'Emergency & Pandemic\\nPreparedness Toolkit\\nBe prepared for your family\\'s unique needs in a crisis.\\nStay informed. Make a plan. Be prepared.Overview\\nTable of Contents:A n  e m e r g e n c y  o r  p a n d e m i c  c a n  b e  e s pe c i a l l y  c ha l l e n g i n g  f o r  f a m i l i e s  o f  c hi l d r e n\\nw i t h  s p e c i a l  h e a l t h c a r e  n e e d s .  W he n  i t  c o m e s  t o  emergency  p r e p a r e d n e s s  i t \\' s\\ni m p o r t a n t  f o r  f a m i l i e s  o f  c h i l d r e n  w i t h d i s a b i l i t i e s  t o  pl a n  f o r  n a t u r a l  d i s a s t e r s ,\\ne s p e c i a l l y  l i v i n g  i n  C a l i f o r n i a  w h e r e  f i r e s  a n d  e a r t h q u a k e s  c o m m o n l y  o c c u r .\\nA d d i t i o n a l l y , c h i l d r e n  w i t h  s p e c i a l  he a l t h c a r e  n e e d s  a r e  m o r e  l i k e l y  t o  e x pe r i e n c e\\no n g o i n g  d i s r u p t i o n s  i n  h e a l t h c a r e , e d u c a t i o n , a n d  o t he r  e ve r y d a y  n e c e s s i t i e s\\nd u r i n g  a  pandemic .  T h i s  t o o l k i t  w i l l  a l l o w  y o u  t o  t h i n k  t hr o u g h  a l l  t he  i n d i vi d u a l\\nn e e d s  o f  y o u r  f a m i l y , s p e c i f i c a l l y  t ho s e  t h a t  a r e  u n i q u e  t o  c hi l d r e n  w i t h\\nd i s a b i l i t i e s .   Templates  a r e  p r o v i d e d  t o  c r e a t e  y o u r  o w n  e m e r g e n c y / pa n d e m i c\\np r e p a r e d n e s s  p l a n  t o  k e e p  y o u r  f a m i l y  s a f e  a n d  he a l t h y  i n  a  c r i s i s .  \\nEmergency Preparedness\\nS t a y  I n f o r m e d . . . . . . . . . . . . . . . . . . . . . . . . . . . . . . . . . . . . . . . . . . . . . . . . . . . . . . . . . . . . . . . . . . . . . . . . . . . . . . . . . . . . . . . . . . . . . . . . . . . . . . . . . . . . . . . . . . . . . . . . . . . . . . . . . . . . . . . . . . . . . . . . . . . . . . . . . . . . . . . . . . . . . . . . . . . . . 1\\nM a k e  a  P l a n . . . . . . . . . . . . . . . . . . . . . . . . . . . . . . . . . . . . . . . . . . . . . . . . . . . . . . . . . . . . . . . . . . . . . . . . . . . . . . . . . . . . . . . . . . . . . . . . . . . . . . . . . . . . . . . . . . . . . . . . . . . . . . . . . . . . . . . . . . . . . . . . . . . . . . . . . . . . . . . . . . . . . . . . . . . . . . . . 2\\nH a v e  a n  E m e r g e n c y  P r e p a r e d n e s s  K i t  R e a d y . . . . . . . . . . . . . . . . . . . . . . . . . . . . . . . . . . . . . . . . . . . . . . . . . . . . . . . . . . . . . . . . . . . . . . . . . . . . . . . . . . . . . . . . . . . . . . . . . 3\\nS u p p l i e s  t o  C o n s i d e r  B a s e d  o n  D i s a b i l i t y  T y p e . . . . . . . . . . . . . . . . . . . . . . . . . . . . . . . . . . . . . . . . . . . . . . . . . . . . . . . . . . . . . . . . . . . . . . . . . . . . . . . . . . . . . . . . . . . . . . . 4\\nE m e r g e n c y  P r e p a r e d n e s s  P l a n  O u t l i n e . . . . . . . . . . . . . . . . . . . . . . . . . . . . . . . . . . . . . . . . . . . . . . . . . . . . . . . . . . . . . . . . . . . . . . . . . . . . . . . . . . . . . . . . . . . . . . . . . . . . . . . . . . . . . . . . . 5\\nE m e r g e n c y  P r e p a r e d n e s s  B a s i c  C h e c k l i s t . . . . . . . . . . . . . . . . . . . . . . . . . . . . . . . . . . . . . . . . . . . . . . . . . . . . . . . . . . . . . . . . . . . . . . . . . . . . . . . . . . . . . . . . . . . . . . . . . . . . . . . . . . . . 6\\nE m e r g e n c y  P r e p a r e d n e s s  C h e c k l i s t  f o r  C h i l d r e n  w i t h  S p e c i a l  H e a l t h c a r e  N e e d s . . . . . . . . . . . . . . 7\\nE m e r g e n c y  P r e p a r e d n e s s  C h e c k l i s t  f o r  A d d i t i o n a l  F a m i l y  M e m b e r s . . . . . . . . . . . . . . . . . . . . . . . . . . . . . . . . . . . . . . . . . . 8\\nE m e r g e n c y  C o n t a c t s . . . . . . . . . . . . . . . . . . . . . . . . . . . . . . . . . . . . . . . . . . . . . . . . . . . . . . . . . . . . . . . . . . . . . . . . . . . . . . . . . . . . . . . . . . . . . . . . . . . . . . . . . . . . . . . . . . . . . . . . . . . . . . . . . . . . . . . . . . . . . . . . . . . . . . . . . . . . 9\\nM e d i c a l  C o n t a c t s / I n f o . . . . . . . . . . . . . . . . . . . . . . . . . . . . . . . . . . . . . . . . . . . . . . . . . . . . . . . . . . . . . . . . . . . . . . . . . . . . . . . . . . . . . . . . . . . . . . . . . . . . . . . . . . . . . . . . . . . . . . . . 1 0 , 1 1\\nPandemic Preparedness\\nP r e p a r i n g  f o r  a  P a n d e m i c  &  D u r i n g  a  P a n d e m i c . . . . . . . . . . . . . . . . . . . . . . . . . . . . . . . . . . . . . . . . . . . . . . . . . . . . . . . . . . . . . . . . . . . . . . . . . . . . . . . . . . . . . . . . . 1 2\\nO u t b r e a k  P l a n . . . . . . . . . . . . . . . . . . . . . . . . . . . . . . . . . . . . . . . . . . . . . . . . . . . . . . . . . . . . . . . . . . . . . . . . . . . . . . . . . . . . . . . . . . . . . . . . . . . . . . . . . . . . . . . . . . . . . . . . . . . . . . . . . . . . . . . . . . . . . . . . . . . . . . . . . . . . . . . . . . . . . . . . . . 1 3\\nE s s e n t i a l  R e s o u r c e s :  F o o d  B a n k s  &  F i n a n c i a l  R e s o u r c e s . . . . . . . . . . . . . . . . . . . . . . . . . . . . . . . . . . . . . . . . . . . . . . . . . . . . . . . . . . . . . . . . . . . . . . . . . 1 4\\nL o c a l  H e a l t h  C l i n i c s ,  T e s t i n g  s i t e s ,  V a c c i n e  s i t e s . . . . . . . . . . . . . . . . . . . . . . . . . . . . . . . . . . . . . . . . . . . . . . . . . . . . . . . . . . . . . . . . . . . . . . . . . . . . . . . . . . . . . . . . . . . 1 5\\nT i p s  t o  P r o m o t e  W e l l - b e i n g ,  A f t e r  a  P a n d e m i c . . . . . . . . . . . . . . . . . . . . . . . . . . . . . . . . . . . . . . . . . . . . . . . . . . . . . . . . . . . . . . . . . . . . . . . . . . . . . . . . . . . . . . . . . . . . 1 6\\nR e s o u r c e s  &  R e f e r e n c e s . . . . . . . . . . . . . . . . . . . . . . . . . . . . . . . . . . . . . . . . . . . . . . . . . . . . . . . . . . . . . . . . . . . . . . . . . . . . . . . . . . . . . . . . . . . . . . . . . . . . . . . . . . . . . . . . . . . . . . . . . . . . . . . . . . . . . . . . . . . . . . . . . . . . . 1 7W a t e r\\nE l e c t r i c i t y\\nI n t e r n e t\\nC e l l  s e r v i c e\\nA i r  c o n d i t i o n i n g  \\nR e f r i g e r a t i o nStay Informed.\\nAssess how the emergency will affect the\\nfollowing:\\nP h a r m a c y  a c c e s s  \\nF a m i l y / f r i e n d  s u p p o r t\\nA b i l i t y  t o  l e a v e  h o m e\\nA b i l i t y  t o  r e t u r n  h o m e\\nH e a l t h c a r e  a c c e s s  \\nT r a n s p o r t a t i o nEmergency Preparedness\\nF a m i l i e s  o f  c h i l d r e n  w i t h  d i s a b i l i t i e s  m a y  h a v e  a d d i t i o n a l  o b s t a c l e s  d u r i n g  a n\\ne m e r g e n c y  s i t u a t i o n ,  m a k i n g  i t  e s p e c i a l l y  i m p o r t a n t  t o  p l a n  a h e a d  f o r  e m e r g e n c i e s .  \\nC o n t a c t  y o u r  l o c a l  emergency\\nmanagement office  t o  d e t e r m i n e  i f  y o u r\\nc i t y  o r  c o u n t y  h a s  a  r e g i s t r y  o f  i n d i v i d u a l s\\nw i t h  d i s a b i l i t i e s  t o  r e c e i v e  t a r g e t e d\\na s s i s t a n c e  d u r i n g  a  d i s a s t e r  \\nS a n t a  M o n i c a  O f f i c e  o f  E m e r g e n c y\\nM a n a g e m e n t  \\nh t t p s : / / w w w . s m g o v . n e t / d e p a r t m e n t s / o\\ne m /\\nC o n s i d e r  g e t t i n g  y o u r  benefits\\nelectronically  i f  y o u  d e p e n d  o n  S o c i a l\\nS e c u r i t y  o r  o t h e r  r e g u l a r  b e n e f i t s :\\nD i r e c t  d e p o s i t  t o  a  c h e c k i n g  o r  s a v i n g s\\na c c o u n t .  I f  y o u  g e t  f e d e r a l  b e n e f i t s\\ny o u  c a n  s i g n  u p  b y  c a l l i n g  8 0 0 - 3 3 3 -\\n1 7 9 5  o r  s i g n  u p  o n l i n e .\\nT h e  D i r e c t  E x p r e s s ®  p r e p a i d  d e b i t\\nc a r d  i s  d e s i g n e d  a s  a  s a f e  a n d  e a s y\\na l t e r n a t i v e  t o  p a p e r  c h e c k s .  C a l l  t o l l -\\nf r e e  a t  8 7 7 - 2 1 2 - 9 9 9 1  o r  s i g n  u p  o n l i n e\\n For Individuals with Disabilities:Register for Alerts:\\nWill there be...?K n o w  w h a t  disasters c a n  a f f e c t  t h e  a r e a  y o u\\nl i v e  i n  a n d  w h a t  a d d e d  r i s k s  t h e r e  m a y  b e\\nd e p e n d i n g  o n  y o u r  l o c a t i o n\\nRegister  f o r :\\nS a n t a  M o n i c a  A l e r t s  (SMAlerts )\\nh t t p s : / / m e m b e r . e v e r b r i d g e . n e t / 4 3 1 7 0\\n0 0 4 7 8 2 2 8 8 7 / l o g i n\\nC i t y  o f  L o s  A n g e l e s  A l e r t s\\nh t t p s : / / m e m b e r . e v e r b r i d g e . n e t / 4 5 3 0 0\\n3 0 8 5 6 1 9 1 6 7 / n e w\\nA l e r t  L A  C o u n t y\\nh t t p s : / / p u b l i c . c o d e r e d w e b . c o m / C N E / e\\nn - U S / B F 5 E 2 0 5 B 1 D 6 9\\nE a r t h q u a k e  W a r n i n g  C a l i f o r n i a\\nh t t p s : / / e a r t h q u a k e . c a . g o v / g e t - a l e r t s /\\nD o w n l o a d  t h e  FEMA  a p p  t o  r e c e i v e  w e a t h e r\\na l e r t s\\n1H o w  y o u  w i l l  r e c e i v e  emergency\\nalerts ,  w a r n i n g s ,  a n d  u p d a t e s\\nW h o  t o  c a l l  a n d  w h e r e  t o  evacuate t o\\nY o u r  shelter plan\\nY o u r  e v a c u a t i o n route\\nH o w  y o u r  f a m i l y  w i l l  f i n d  e a c h  o t h e r  i f\\nt h e y  g e t  s p l i t  u p  \\nY o u r  f a m i l y / h o u s e h o l d  communication\\nplanMake a Plan.Emergency Preparedness\\nPRIOR TO AN EMERGENCY, YOU SHOULD...E m e r g e n c y  s i t u a t i o n s  a r e  e x t r e m e l y  s t r e s s f u l .  H a v i n g  a  p l a n  c a n n o t  o n l y\\nm i n i m i z e  s t r e s s  b u t  c a n  k e e p  y o u r  f a m i l y  s a f e  a n d  p o t e n t i a l l y  s a v e  l i v e s .  \\nH a v e  a n  u p d a t e d  emergency kit\\nC r e a t e  a  network  o f  s u p p o r t  t o\\nh e l p  y o u  \\nH a v e  a  code word f o r  y o u r  c h i l d\\na n d  a  f a m i l y / f r i e n d  t o  u s e  ( c h i l d\\nw i l l  k n o w  t h e  c o d e  w o r d  m e a n s  t h e\\ni n d i v i d u a l  i s  s a f e  t o  l e a v e  w i t h  i n\\na n  e m e r g e n c y )\\nT e a c h  e a c h  f a m i l y  m e m b e r ,\\ne s p e c i a l l y  y o u r  c h i l d r e n , important\\ncontacts ,  i n c l u d i n g  n a m e s ,  p h o n e\\nn u m b e r s ,  a n d  a d d r e s s e s  \\nI f  y o u r  c h i l d  c a n n o t  m e m o r i z e\\ni m p o r t a n t  c o n t a c t s ,  m a k e  s u r e  t h e y\\nh a v e  a  p h y s i c a l  o r  e l e c t r o n i c  c o p y\\nh a n d y  a t  a l l  t i m e s\\nP r a c t i c e  y o u r  emergency plan ( p g .\\n5 ) w i t h  y o u r  c h i l d r e n  t o  m a k e  s u r e\\nt h e y  k n o w  w h a t  t o  d o\\nM a k e  s u r e  f a m i l y  m e m b e r s  a n d\\nn e t w o r k  o f  s u p p o r t  k n o w  w h e r e\\nt h e  e m e r g e n c y  k i t  i s  s t o r e d...KNOW THE FOLLOWING: ...COMPLETE THE FOLLOWING:\\nCONSIDER THE FOLLOWING FOR\\n INDIVIDUALS WITH DISABILITIES:\\nC r e a t e  a  care plan  ( p g .  7 )  f o r  y o u r\\nc h i l d  w i t h  s p e c i a l  n e e d s\\nH a v e  a  medical alert tag o r  b r a c e l e t\\nf o r  y o u r  f a m i l y  m e m b e r s  w i t h\\nd i s a b i l i t i e s\\nI f  y o u  h a v e  a n i m a l s  t h a t  a r e  n o t\\nservice animals,  l o c a t e  s h e l t e r s  t h a t\\na l l o w  n o n - s e r v i c e  a n i m a l s  \\nC r e a t e  a list o f  n e a r b y  m e d i c a l\\nf a c i l i t i e s ,  l o c a l  h o s p i t a l s ,  a n d  n e a r e s t\\nt r a n s p o r t a t i o n  a n d  s t o r e  i n  y o u r\\ne m e r g e n c y  k i t\\n \\n2Emergency Preparedness\\nHAVE AN EMERGENCY KIT READY\\nWater  a n d  n o n - p e r i s h a b l e  foods\\nE x t r a  c e l l  p h o n e  b a t t e r y /charger\\nB a t t e r y - p o w e r e d  o r  h a n d  c r a n k  radio\\nt h a t  c a n  r e c e i v e  N O A A  W e a t h e r\\nR a d i o  a l e r t s  \\nE x t r a  batteries f o r  r a d i o\\nFlashlight ( e x t r a  b a t t e r i e s  f o r\\nf l a s h l i g h t )\\nFirst-Aid kit\\nWhistle  t o  s i g n a l  f o r  h e l p\\nI m p o r t a n t  documents  ( b i r t h  c e r t i f i c a t e ,\\np a s s p o r t s ,  b a n k  a c c o u n t  r e c o r d s )\\nP a p e r  a n d  p e n c i l\\nB o o k s ,  g a m e s ,  p u z z l e s ,  a n d  o t h e r\\nactivities  f o r  c h i l d r e n\\n D u s t  masks  t o  h e l p  f i l t e r  c o n t a m i n a t e d\\na i r\\nP l a s t i c  sheeting a n d  d u c t  tape  t o  s h e l t e r\\ni n  p l a c e\\nP e r s o n a l  sanitation/hygiene \\nN o n - s p a r k i n g  wrench o r  p l i e r s  t o  t u r n\\no f f  u t i l i t i e s  \\nCan opener  ( i f  k i t  c o n t a i n s  c a n n e d\\nf o o d )\\nL o c a l  maps\\nS l e e p i n g  b a g s / w a r m blankets\\nC o m p l e t e  c h a n g e  o f  clothing \\nFire extinguisher\\nCash\\nInfant formula a n d  diapers\\n \\nA  c u r r e n t  c o p y  o f  y o u r  c h i l d ’ s  Care\\nPlan ( p g .  7 )\\nC o m f o r t  t o y s\\nPet food,  w a t e r  a n d  s u p p l i e s  f o r  y o u r\\ns e r v i c e  a n i m a l\\nC o p i e s  o f  I m p o r t a n t  documents\\n( i n s u r a n c e  p o l i c i e s ,  I E P s ,  e t c . )\\nE m e r g e n c y  r e f e r e n c e  m a t e r i a l  (first\\naid book )A  l i s t  o f  t h e  s t y l e  a n d  s e r i a l  n u m b e r\\no f  medical devices  ( i n c l u d e\\ni n s t r u c t i o n s  f o r  o p e r a t i n g  e q u i p m e n t )\\nA  b a c k u p  s u p p l y  o f  oxygen i f\\nn e e d e d\\nA d d i t i o n a l  power supplies ( b a t t e r i e s )\\nS e v e r a l  d a y  s u p p l y  o f  prescription\\nmedicineBASIC SUPPLIES:H a v e  a  b a g  r e a d y  t o  g r a b  a n d  g o  i n  a n  e m e r g e n c y .\\nSUPPLIES TO CONSIDER FOR INDIVIDUALS WITH DISABILITIES:\\n3Emergency Preparedness\\nSUPPLIES TO CONSIDER BASED ON DISABILITY TYPE\\nM a r k  e m e r g e n c y  s u p p l i e s  w i t h\\nBraille labels\\nH a v e  a n  audible list o f  e m e r g e n c y\\ns u p p l i e s  a n d  c o n t a c t s  o n  a  U S B  o r\\na n  a u d i o  f i l e\\nK e e p  a d d i t i o n a l  c o m m u n i c a t i o n\\ns u p p l i e s  i n  y o u r  k i t\\n SENSORY DISABILITY\\nE n s u r e  h a n d h e l d  electronic devices  a r e\\nc h a r g e d\\nH a v e  s p a r e  c h a r g e r s\\nC o n s i d e r  h a v i n g  a  s m a l l  pop-up tent  t o\\nd e c r e a s e  v i s u a l  s t i m u l a t i o n  \\nH a v e  noise-cancelling headphones  o r  e a r p l u g s\\nt o  r e d u c e  a u d i t o r y  s t i m u l a t i o n  \\nH a v e  i t e m s  t h a t  soothe y o u / y o u r  c h i l d  s u c h  a s\\ns n a c k s ,  s t u f f e d  a n i m a l s ,  e t c .  \\nHearing-aid batteries\\nPen & paper  t o  c o m m u n i c a t e  i n  a n\\ne m e r g e n c y\\nBattery operated lantern t o  b e  a b l e\\nt o  c o m m u n i c a t e  i f  t h e  e l e c t r i c i t y  i s\\no u t\\nC a r r y  printed cards o r  s t o r e\\ni n f o r m a t i o n  o n  y o u r  d e v i c e s  t o  i n f o r m\\nf i r s t  r e s p o n d e r s  a n d  o t h e r s  h o w  t o\\nc o m m u n i c a t e  w i t h  y o uH a v e  a  l i g h t w e i g h t  manual chair  a v a i l a b l e  i f\\ny o u  u s e  a  p o w e r  w h e e l c h a i r\\nM a k e  s u r e  o t h e r s  k n o w  h o w  t o  o p e r a t e  y o u r\\nw h e e l c h a i r\\nH a v e  a n  extra battery  f o r  a n y  b a t t e r y -\\no p e r a t e d  d e v i c e s  \\nH a v e  a  patch kit o r  c a n  o f  s e a l a n t  i f  d e v i c e  i s\\nn o t  p u n c t u r e  p r o o f\\nH a v e  a  p o r t a b l e  air pump\\nH a v e  a n  a d d i t i o n a l  d e v i c e  t o  a s s i s t  w i t h\\nm o b i l i t y  s u c h  a s  a  walker o r  c a n e\\nCommunicate  w i t h  n e i g h b o r s  t o  d e t e r m i n e\\nw h o  c a n / w i l l  a s s i s t  y o u  i n  evacuating \\n BLIND/LOW VISION\\nMOBILITY DISABILITY\\nDEAF/HARD OF HEARINGI f  y o u  u s e  a n y  assistive devices,  k e e p  m o d e l  i n f o r m a t i o n  a n d  d e t e r m i n e  h o w  y o u\\nw i l l  r e p l a c e  d e v i c e  i f  l o s t / d e s t r o y e d\\nH a v e  b a c k  u p  p l a n  o f  c o m m u n i c a t i o n  s u c h  a s  laminated cards w i t h  p h r a s e s\\na n d / o r  p i c t o g r a m s\\nC a r r y  p r i n t e d  c a r d s  o r  s t o r e  i n f o r m a t i o n  o n  y o u r  d e v i c e s  t o  i n f o r m  first responders\\na n d  o t h e r s  h o w  t o  c o m m u n i c a t e  w i t h  y o uSPEECH DISABILITY\\n4Emergency Preparedness Plan\\nEVACUATION LOCATION #1: EVACUATION LOCATION #2:OUTLINE:\\n5W a t e r\\nN o n - p e r i s h a b l e  f o o d s\\nC e l l - p h o n e  c h a r g e r ,  e x t r a  b a t t e r i e s\\nB a t t e r y - p o w e r e d  o r  h a n d  c r a n k  r a d i o\\nF l a s h l i g h t\\nF i r s t - A i d  K i t\\nC a s h\\nF e m i n i n e  s u p p l i e s ,  p e r s o n a l  h y g i e n e  i t e m s\\nH a n d  s a n i t i z e r\\nG a r b a g e  b a g s\\nP l a s t i c  t i e s\\nW h i s t l e\\nF a c e  M a s k s\\nC o p i e s  o f  I m p o r t a n t  f a m i l y  d o c u m e n t s  ( i n s u r a n c e\\np o l i c i e s ,  p a s s p o r t s ,  e t c . )  Emergency Preparedness Checklist\\nBasic Supplies\\n6Name:\\nMedications:                                 Care Plan:\\nMedical Devices:                            Other:Emergency Care Plan\\nFor Children with Special Healthcare Needs\\nName:\\nMedications:                                 Care Plan:\\nMedical Devices:                            Other:\\n7Name:\\nName:Emergency Care Plan\\nFor Additional Family Members\\nName:Name:\\n8Emergency Contacts\\nNAME:____________________ NAME:____________________NAME:____________________\\nRelationship:\\nPhone #:\\nAddress:NAME:____________________\\nRelationship:\\nPhone #:\\nAddress:\\nRelationship:\\nPhone #:\\nAddress:Relationship:\\nPhone #:\\nAddress:\\n9Medical Contacts/Info\\nPhone #:\\nEmail:\\nPolicy #:\\nOther:Phone #:\\nEmail:\\nAddress:\\nOther:Specialty:\\nPhone #:\\nAddress:PHYSICIAN: _______________ PHYSICIAN: _______________\\nMEDICAL INSURANCE OTHER:___________________Specialty:\\nPhone #:\\nAddress:\\n1 0Medical Contacts/Info\\nPhone #:\\nEmail:\\nPolicy #:\\nOther:Phone #:\\nEmail:\\nAddress:\\nOther:Specialty:\\nPhone #:\\nAddress:PHYSICIAN: _______________ PHYSICIAN: _______________\\nMEDICAL INSURANCE OTHER:___________________Specialty:\\nPhone #:\\nAddress:\\n1 1Preparing for a pandemic.Pandemic Preparedness\\nT o  p r e p a r e  f o r  a  p a n d e m i c ,  i t ’ s  i m p o r t a n t  t o  u n d e r s t a n d  w h a t  a  p a n d e m i c  i s  a n d  h o w\\nd i s e a s e  i s  s p r e a d .  A  pandemic  i s  a n  o u t b r e a k  o f  a  d i s e a s e  t h a t  s p r e a d s  a c r o s s  t h e  g l o b e .\\nP a n d e m i c s  a r e  h a r d  t o  p r e d i c t ,  c a n  s t a r t  a n y w h e r e ,  a n d  s p r e a d  v e r y  q u i c k l y .  Diseases\\nc a n  b e  s p r e a d  d i r e c t l y  f r o m  p e r s o n  t o  p e r s o n ,  f r o m  g e r m s  o n  o b j e c t s ,  a n d  f r o m  p e o p l e\\nw h o  d o n \\' t  l o o k  s i c k .BECOME INFORMED\\nHAVE A PLAN\\nD e v e l o p  a  p l a n  i n  a n t i c i p a t i o n  o f  s c h o o l s ,  w o r k p l a c e s ,  a n d  c o m m u n i t y  c e n t e r s  closing\\nU p d a t e  y o u r  emergency kit  a n d  a d d  a p p r o p r i a t e  s u p p l i e s\\nH a v e  a n  “outbreak plan ”  ( p g .  1 3 )  i f  a  f a m i l y  m e m b e r  b e c o m e s  i n f e c t e d\\nS p e a k  w i t h  y o u r  h e a l t h c a r e  p r o v i d e r  t o  e n s u r e  y o u  h a v e  a c c e s s  t o  Telehealth  s e r v i c e s\\nREDUCING RISK\\nWash hands f r e q u e n t l y\\nA v o i d  t o u c h i n g  f a c e\\nS a n i t i z e  a n d  disinfect\\n\" h i g h - t o u c h \"  o b j e c t s\\nAvoid 3 C\\'s :  c l o s e d\\ns p a c e s ,  c r o w d e d  s p a c e s ,\\nc l o s e - c o n t a c t\\nW e a r  face masks  i n\\np u b l i c  ( 2  y e a r s  &\\na b o v e )  \\nStay home i f  p o s s i b l e\\nScreen  f o r  d i s e a s e  \\nG e t  vaccinated  o n c e\\na v a i l a b l e\\nF o l l o w  guidance  f r o m\\ny o u r  h e a l t h c a r e\\np r o v i d e r ,  l o c a l  p u b l i c\\nh e a l t h  o f f i c e ,  a n d  C D CU s e  T e l e h e a l t h  s e r v i c e s  \\nF o r  visually/hearing\\nimpaired c h i l d r e n  v i s i t\\nh e a l t h y c h i l d r e n . o r g  t o\\nf i n d  t o o l s  t o  h e l p  w i t h\\nv i r t u a l  v i s i t s\\nU s e  home-based lab\\ndraws  a n d  d i a g n o s t i c\\ni m a g i n g  t e s t s  \\nF o r  i n - p e r s o n\\na p p o i n t m e n t s ,  wait in\\nyour car  i n s t e a d  o f  t h e\\nw a i t i n g  r o o m\\nP i c k  u p  school meals  i n\\nb a t c h e s  o r  h a v e  t h e m\\nd e l i v e r e d  t o  y o u r  h o m e\\ni f  c h i l d  i s  i n  r e m o t e\\nc l a s s e sI s  i t  s a f e  f o r  m y  c h i l d  t o\\nr e t u r n  t o  i n - p e r s o n\\nschool ?\\nW h a t  a c c o m m o d a t i o n s\\no r  safety precautions\\ns h o u l d  m y  c h i l d \\' s  s c h o o l\\nb e  t a k i n g ?\\nI f  c h i l d  i s  immuno-\\ncompromised:  d o e s  m y\\nc h i l d  n e e d  ( 1 )  h i g h e r\\ng r a d e  P P E ,  ( 2 )  f r e q u e n t\\ns c r e e n i n g  ( e . g .  C O V I D\\nt e s t i n g ) ,  ( 3 )  t e s t i n g  o f\\nc l o s e  c o n t a c t s ?\\nI f  c h i l d  i s  hearing/speech\\nimpaired :  d o e s  m y  c h i l d\\nn e e d  a  t r a n s p a r e n t  f a c e\\nm a s k / f a c e  s h i e l d ?1 .\\n2 .\\n3 .\\n4 .QUESTIONS FOR YOUR\\nCHILD\\'S PHYSICIANDuring a pandemic.\\nTIPS FOR CHILDREN\\nWITH DISABILITIES\\n1 2Pandemic Preparedness\\nO U T B R E A K  P L A N\\nW h e n  c r e a t i n g  y o u r  o u t b r e a k  p l a n ,  c o n s i d e r  w h o  w i l l  n e e d  t o  b e  n o t i f i e d\\n( p h y s i c i a n s ,  w o r k ,  s c h o o l ,  e t c . ) ,  w h e r e  n e a r b y  h o s p i t a l s  a r e ,  h o w  y o u  w i l l  b e\\na c c e s s i n g  f o o d ,  a n d  w h o  w i l l  b e  a b l e  t o  w a t c h  y o u r  c h i l d r e n  i f  n e e d e d .  \\n1 3Pandemic Preparedness\\nD u r i n g  a  p a n d e m i c .\\nESSENTIAL RESOURCES\\nW e s t s i d e  F o o d  B a n k\\n1 7 1 0  2 2 n d  S t .\\nS a n t a  M o n i c a ,  C A  9 0 4 0 4\\n( 3 1 0 )  8 2 8 - 6 0 1 6\\nh t t p s : / / w w w . w s f b . o r g /\\nF o o d  D i s t r i b u t i o n  C e n t e r  -  W S F B  -\\nO c e a n  P a r k  C o m m u n i t y  C e n t e r\\n5 0 3  O l y m p i c  B l v d .\\nS a n t a  M o n i c a ,  C A  9 0 4 0 1\\n( 3 1 0 )  4 5 0 - 4 0 5 0F o o d  D i s t r i b u t i o n  C e n t e r  -  W S F B / S t e p\\nU p  O n  S e c o n d\\n1 3 2 8  2 n d  S t .\\nS a n t a  M o n i c a ,  C A  9 0 4 0 1\\n( 3 1 0 )  3 9 4 - 6 8 8 9\\nF o o d  D i s t r i b u t i o n  C e n t e r  -  \\nS a i n t  J o s e p h  C e n t e r\\n2 0 4  H a m p t o n  D r .\\nV e n i c e ,  C A  9 0 2 9 1\\n( 3 1 0 )  3 9 6 - 6 4 6 8\\nB e g i n  a n  e m e r g e n c y  s a v i n g s\\na c c o u n t\\nC o n t a c t  y o u r  i n s u r a n c e  A S A P  a f t e r\\na  d i s a s t e r\\nR e v i e w  i n s u r a n c e  p o l i c i e s  t o  m a k e\\ns u r e  y o u  a r e  c o v e r e d  f o r  n a t u r a l\\nd i s a s t e r s  \\nR e n e w  y o u r  i n s u r a n c e  a n n u a l l y  \\nT a k e  p h o t o s  o f  y o u  p r o p e r t y  t o\\np o t e n t i a l l y  r e b u i l d\\nF o r  m o r e  i n f o  v i s i t :  \\n h t t p s : / / w w w . r e a d y . g o v / f i n a n c i a l -\\np r e p a r e d n e s sFOOD BANKS IN SANTA MONICA\\nFINANCIAL TIPS\\nF i n a n c i a l  P r e p a r e d n e s s :\\nh t t p s : / / w w w . r e a d y . g o v / f i n a n c i a l -\\np r e p a r e d n e s s\\nC a l W O R K S  ( T A N F ) :  a  w e l f a r e\\np r o g r a m  t h a t  g i v e s  c a s h  a i d  a n d\\ns e r v i c e s  t o  e l i g i b l e  n e e d y  C a l i f o r n i a\\nf a m i l i e s .\\nh t t p s : / / w w w . b e n e f i t s . g o v / b e n e f i t / 1 2 2 9\\nC i t y  o f  L o s  A n g e l e s  P u b l i c  A s s i s t a n c e :\\nh t t p s : / / l a c o u n t y . g o v / r e s i d e n t s / s o c i a l -\\ns e r v i c e s / p u b l i c - a s s i s t a n c e /\\nC a l F r e s h :\\nh t t p s : / / w w w . g e t c a l f r e s h . o r g /FINANCIAL RESOURCES\\n1 4Pandemic Preparedness\\nVenice Family Clinic at Santa Monica\\nHigh School\\n6 0 1  P i c o  B l v d\\nS a n t a  M o n i c a ,  C A  -  9 0 4 0 5\\n( 3 1 0 )  3 9 2 - 8 6 3 6\\nVenice Family Clinic At OPCC\\nAnnenberg Access Center\\n5 0 3  O l y m p i c  B l v d\\nS a n t a  M o n i c a ,  C A  -  9 0 4 0 1\\n( 3 1 0 )  3 9 2 - 8 6 3 6\\nVenice Family Clinic - Simms Mann\\nHealth And Wellness Center\\n2 5 0 9  P i c o  B l v d .\\nS a n t a  M o n i c a ,  C A  -  9 0 4 0 5\\n( 3 1 0 )  3 9 2 - 8 6 3 6Westside Family Health Center\\n1 7 1 1  O c e a n  P a r k  B l v d .\\nS a n t a  M o n i c a ,  C A  -  9 0 4 0 5\\nV e n i c e  F a m i l y  C l i n i c  -  D a y b r e a k  D a y\\nC e n t e r\\n1 6 1 4  O c e a n  A v e .\\nS a n t a  M o n i c a ,  C A  -  9 0 4 0 1\\n3 1 0 - 3 9 2 - 8 6 3 6\\nVenice Family Clinic - Opcc Safe\\nHaven & Daybreak Shelters\\n1 7 5 1  C l o v e r f i e l d  B l v d .\\nS a n t a  M o n i c a ,  C A  -  9 0 4 0 4\\nV i s i t :  https://dhs.lacounty.gov/\\nf o r  o t h e r  l o c a t i o n s\\nE n t e r  y o u r  l o c a t i o n\\nF i n d  a  f r e e  t e s t i n g  s i t e  n e a r  y o u\\nB o o k  a n  a p p o i n t m e n t  t o  a v o i d  l o n g\\nw a i t  t i m e sFinding a COVID testing site:\\nh t t p s : / / c o v i d 1 9 . l a c o u n t y . g o v / t e s t i n g /Finding a COVID vaccine site:\\nh t t p s : / / w w w . v a c c i n e s . g o v /\\nS e l e c t  “ F i n d  C O V I D - 1 9  V a c c i n e s ”\\nE n t e r  Z i p  C o d e  a n d  s e l e c t  “ s e a r c h  f o r\\nv a c c i n e s ”\\nS e l e c t  a  s i t e\\nS e l e c t  “ b o o k  a n  a p p o i n t m e n t \"LOCAL HEALTH CLINICS\\n1 5R e c o g n i z e  w h e n  y o u  n e e d  a  b r e a k\\nT a k e  c a r e  o f  y o u r  p h y s i c a l  h e a l t h  s i n c e\\ni t  a f f e c t s  y o u r  m e n t a l  h e a l t h\\nE n g a g e  i n  p h y s i c a l  a c t i v i t y  r e g u l a r l y\\nM e d i t a t e  \\nA v o i d  u n h e a l t h y  f o o d s  ( h i g h  f a t ,\\nh i g h  s u g a r ,  l i t t l e  n u t r i t i o n a l  v a l u e )\\nI n c r e a s e  y o u r  f r u i t  a n d  v e g e t a b l e\\ni n t a k e\\nP a r t i c i p a t e  i n  a n  a c t i v i t y / h o b b y  y o u\\ne n j o y\\nC o n n e c t  w i t h  l o v e d  o n e s  v i r t u a l l y\\nt h r o u g h  v i d e o  c h a t ,  s o c i a l  m e d i a ,\\nt e x t i n g ,  o r  c a l l i n gPandemic Preparedness\\nE n c o u r a g e  f a m i l y  m e m b e r s  t o  c o m e  u p\\nw i t h  c r e a t i v e  a c t i v i t i e s  t o  d o  t o  s t a y\\na c t i v e  a n d  h e a l t h y\\nT r y  t o  s p e n d  t i m e  o u t s i d e  i n  n a t u r e  \\nM o n i t o r  y o u r  c h i l d ’ s  e m o t i o n a l  h e a l t h\\nT a l k  t o  t h e m  a b o u t  w h a t e v e r\\nc o n c e r n s  o r  f e e l i n g s  t h e y  m a y  h a v e\\nC o n s i d e r  c o g n i t i v e - b e h a v i o r a l  t h e r a p y\\n( v i r t u a l )  f o r  y o u r s e l f  o r  y o u r  c h i l d\\nT a l k  t o  y o u r  c h i l d ’ s  p e d i a t r i c i a n  a b o u t\\na n y  m e n t a l  h e a l t h  c o n c e r n s  y o u  m a y\\nh a v e  a b o u t  y o u r  c h i l d\\nI f  y o u  a r e  e x p e r i e n c i n g  m e n t a l  h e a l t h\\nc h a l l e n g e s  o f  y o u r  o w n ,  t a l k  t o  y o u r\\nh e a l t h c a r e  p r o v i d e rTIPS TO PROMOTE WELL-BEING:F a m i l i e s  o f  c h i l d r e n  w i t h  d i s a b i l i t i e s  e x p e r i e n c e  i n c r e a s e d  l e v e l s  o f  s t r e s s  i n  c o m p a r i s o n  t o\\no t h e r  f a m i l i e s .  A  p a n d e m i c  o n l y  c r e a t e s  a d d i t i o n a l  s t r e s s o r s ,  m a k i n g  i t  e s p e c i a l l y  i m p o r t a n t\\nf o r  p a r e n t s  o f  c h i l d r e n  w i t h  d i s a b i l i t i e s  t o  t a k e  c a r e  o f  t h e i r  o v e r a l l  w e l l - b e i n g .  \\nA f t e r  a  p a n d e m i c .\\nC o n t i n u e  t o  t a k e  t h e  f o l l o w i n g  p r e c a u t i o n s :\\nS t a y  h o m e  w h e n  s i c k\\nF o l l o w  g u i d a n c e  o f  h e a l t h c a r e  p r o v i d e r  a n d  C D C\\nC o v e r  c o u g h s  a n d  s n e e z e s  \\nW a s h  h a n d s  f r e q u e n t l y\\nW e a r  f a c e  m a s k  i n  p u b l i c  s p a c e s  i f  s i c k\\nF o l l o w  l o c a l  p u b l i c  h e a l t h  g u i d a n c e  \\nM a k e  a n y  u p d a t e s  t o  y o u r  e m e r g e n c y  p l a n  a n d  r e s t o c k  y o u r  e m e r g e n c y  k i t\\n1 6SAMHSA’s National Helpline ( f r e e ,  2 4 / 7 )\\nh t t p s : / / w w w . s a m h s a . g o v / f i n d - h e l p / n a t i o n a l -\\nh e l p l i n e\\n1 - 8 0 0 - 6 6 2 - H E L P  ( 4 3 5 7 )Open Counseling ( f r e e / l o w - c o s t  t h e r a p y )\\nh t t p s : / / w w w . o p e n c o u n s e l i n g . c o m / c a l i f o r n i a /Resources & References\\nT h i s  t o o l k i t  w a s  d e v e l o p e d  f r o m  t h e  f o l l o w i n g  r e s o u r c e s .  V i s i t\\nt h e  f o l l o w i n g  w e b s i t e s  f o r  a d d i t i o n a l  i n f o r m a t i o n .\\nR e a d y . g o v / F E M A :\\nr e a d y . g o v / p l a n  a n d  r e a d y . g o v / d i s a b i l i t y\\nS a n t a  M o n i c a  A l e r t s  ( S M A l e r t s ) :\\nh t t p s : / / m e m b e r . e v e r b r i d g e . n e t / 4 3 1 7 0 0 0 4 7 8 2 2 8 8 7 / l o g i n\\nS a n t a  M o n i c a  O f f i c e  o f  E m e r g e n c y  M a n a g e m e n t :\\nh t t p s : / / w w w . s m g o v . n e t / d e p a r t m e n t s / o e m /\\nh t t p s : / / w w w . s m g o v . n e t / D e p a r t m e n t s / C M O / c o n t e n t . a s p x ? i d = 5 3 6 8 7 0 9 9 1 2 7\\nA m e r i c a n  A c a d e m y  o f  P e d i a t r i c s :  H e a l t h y  C h i l d r e n\\nh t t p s : / / w w w . h e a l t h y c h i l d r e n . o r g / E n g l i s h / h e a l t h - i s s u e s / c o n d i t i o n s / C O V I D -\\n1 9 / P a g e s / C O V I D - 1 9 - Y o u t h - w i t h - S p e c i a l - H e a l t h - C a r e - N e e d s . a s p x\\nA m e r i c a n  A c a d e m y  o f  P e d i a t r i c s :\\nh t t p s : / / w w w . a a p . o r g / e n / p a g e s / 2 0 1 9 - n o v e l - c o r o n a v i r u s - c o v i d - 1 9 - i n f e c t i o n s / c l i n i c a l -\\ng u i d a n c e / c a r i n g - f o r - c h i l d r e n - a n d - y o u t h - w i t h - s p e c i a l - h e a l t h - c a r e - n e e d s - d u r i n g - t h e -\\nc o v i d - 1 9 - p a n d e m i c /\\nThis project is supported and funded by the Health Resources and Services Administration (HRSA) of the U.S. Department of Health and\\nHuman Services (HHS) under award UA6MC32492, the Life Course Intervention Research Network. The information, content and/or\\nconclusions are those of the author and should not be construed as the official position or policy of, nor should any endorsements be\\ninferred by HRSA, HHS or the U.S. Government.   The research team led by Dr. Priyanka Fernandes and Dr. Denise Nunez were instructive\\nin creating this resource for public use. 1 7N o t e s :'"
            ]
          },
          "execution_count": 9,
          "metadata": {},
          "output_type": "execute_result"
        }
      ],
      "source": [
        "raw_text"
      ]
    },
    {
      "cell_type": "markdown",
      "metadata": {
        "id": "wRu7mrVjyLaN"
      },
      "source": [
        "## Initialize the connection to database"
      ]
    },
    {
      "cell_type": "code",
      "execution_count": null,
      "metadata": {
        "colab": {
          "base_uri": "https://localhost:8080/"
        },
        "id": "IcqF8O-myViW",
        "outputId": "5577c5ef-6f5c-4edf-9df5-da1eddce0a34"
      },
      "outputs": [
        {
          "name": "stderr",
          "output_type": "stream",
          "text": [
            "WARNING:cassandra.cluster:Downgrading core protocol version from 66 to 65 for 3606cc90-47a9-43fe-8f79-39f4f14305de-westus3.db.astra.datastax.com:29042:00694036-11ec-39fb-8238-d79afd9b0e46. To avoid this, it is best practice to explicitly set Cluster(protocol_version) to the version supported by your cluster. http://datastax.github.io/python-driver/api/cassandra/cluster.html#cassandra.cluster.Cluster.protocol_version\n",
            "WARNING:cassandra.cluster:Downgrading core protocol version from 65 to 5 for 3606cc90-47a9-43fe-8f79-39f4f14305de-westus3.db.astra.datastax.com:29042:00694036-11ec-39fb-8238-d79afd9b0e46. To avoid this, it is best practice to explicitly set Cluster(protocol_version) to the version supported by your cluster. http://datastax.github.io/python-driver/api/cassandra/cluster.html#cassandra.cluster.Cluster.protocol_version\n",
            "WARNING:cassandra.cluster:Downgrading core protocol version from 5 to 4 for 3606cc90-47a9-43fe-8f79-39f4f14305de-westus3.db.astra.datastax.com:29042:00694036-11ec-39fb-8238-d79afd9b0e46. To avoid this, it is best practice to explicitly set Cluster(protocol_version) to the version supported by your cluster. http://datastax.github.io/python-driver/api/cassandra/cluster.html#cassandra.cluster.Cluster.protocol_version\n",
            "WARNING:cassandra.cluster:Found multiple hosts with the same endpoint (3606cc90-47a9-43fe-8f79-39f4f14305de-westus3.db.astra.datastax.com:29042:00694036-11ec-39fb-8238-d79afd9b0e46). Excluding peer 10.0.0.3\n"
          ]
        }
      ],
      "source": [
        "cassio.init(token = ASTRA_DB_APPLICATION_TOKEN, database_id = ASTRA_DB_ID)"
      ]
    },
    {
      "cell_type": "markdown",
      "metadata": {
        "id": "y3kk3w6ryrIe"
      },
      "source": [
        "Create Langchain embedding"
      ]
    },
    {
      "cell_type": "code",
      "execution_count": null,
      "metadata": {
        "colab": {
          "base_uri": "https://localhost:8080/"
        },
        "id": "aXQxV20xy4ZX",
        "outputId": "866c09f1-1261-46d3-bbd2-61b5e9bc72fa"
      },
      "outputs": [
        {
          "name": "stderr",
          "output_type": "stream",
          "text": [
            "/usr/local/lib/python3.10/dist-packages/langchain_core/_api/deprecation.py:119: LangChainDeprecationWarning: The class `OpenAI` was deprecated in LangChain 0.0.10 and will be removed in 0.3.0. An updated version of the class exists in the langchain-openai package and should be used instead. To use it run `pip install -U langchain-openai` and import as `from langchain_openai import OpenAI`.\n",
            "  warn_deprecated(\n",
            "/usr/local/lib/python3.10/dist-packages/langchain_core/_api/deprecation.py:119: LangChainDeprecationWarning: The class `OpenAIEmbeddings` was deprecated in LangChain 0.0.9 and will be removed in 0.3.0. An updated version of the class exists in the langchain-openai package and should be used instead. To use it run `pip install -U langchain-openai` and import as `from langchain_openai import OpenAIEmbeddings`.\n",
            "  warn_deprecated(\n"
          ]
        }
      ],
      "source": [
        "llm = OpenAI(openai_api_key = OPENAI_API_KEY)\n",
        "embedding = OpenAIEmbeddings(openai_api_key = OPENAI_API_KEY)"
      ]
    },
    {
      "cell_type": "markdown",
      "metadata": {
        "id": "qZAKaz6fzhvG"
      },
      "source": [
        "Create Langchain vector store ... backed by Astra DB!"
      ]
    },
    {
      "cell_type": "code",
      "execution_count": null,
      "metadata": {
        "id": "Utn6UQIizZcR"
      },
      "outputs": [],
      "source": [
        "#Storing Embeddings in Cassandra\n",
        "astra_vector_store= Cassandra(\n",
        "    embedding = embedding,\n",
        "    table_name = 'qa_mini_demo',\n",
        "    session = None,\n",
        "    keyspace= None,\n",
        ")"
      ]
    },
    {
      "cell_type": "code",
      "execution_count": null,
      "metadata": {
        "id": "N0nKLxBx0cG6"
      },
      "outputs": [],
      "source": [
        "from langchain.text_splitter import CharacterTextSplitter\n",
        "\n",
        "text_splitter = CharacterTextSplitter(\n",
        "    separator = '\\n',\n",
        "    chunk_size = 800,\n",
        "    chunk_overlap = 200,\n",
        "    length_function = len,\n",
        ")\n",
        "\n",
        "texts = text_splitter.split_text(raw_text)"
      ]
    },
    {
      "cell_type": "code",
      "execution_count": null,
      "metadata": {
        "colab": {
          "base_uri": "https://localhost:8080/"
        },
        "id": "eDNDIrav1U44",
        "outputId": "d709d968-cac8-4063-bab5-25385452413e"
      },
      "outputs": [
        {
          "data": {
            "text/plain": [
              "[\"Emergency & Pandemic\\nPreparedness Toolkit\\nBe prepared for your family's unique needs in a crisis.\\nStay informed. Make a plan. Be prepared.Overview\\nTable of Contents:A n  e m e r g e n c y  o r  p a n d e m i c  c a n  b e  e s pe c i a l l y  c ha l l e n g i n g  f o r  f a m i l i e s  o f  c hi l d r e n\\nw i t h  s p e c i a l  h e a l t h c a r e  n e e d s .  W he n  i t  c o m e s  t o  emergency  p r e p a r e d n e s s  i t ' s\\ni m p o r t a n t  f o r  f a m i l i e s  o f  c h i l d r e n  w i t h d i s a b i l i t i e s  t o  pl a n  f o r  n a t u r a l  d i s a s t e r s ,\\ne s p e c i a l l y  l i v i n g  i n  C a l i f o r n i a  w h e r e  f i r e s  a n d  e a r t h q u a k e s  c o m m o n l y  o c c u r .\",\n",
              " 'e s p e c i a l l y  l i v i n g  i n  C a l i f o r n i a  w h e r e  f i r e s  a n d  e a r t h q u a k e s  c o m m o n l y  o c c u r .\\nA d d i t i o n a l l y , c h i l d r e n  w i t h  s p e c i a l  he a l t h c a r e  n e e d s  a r e  m o r e  l i k e l y  t o  e x pe r i e n c e\\no n g o i n g  d i s r u p t i o n s  i n  h e a l t h c a r e , e d u c a t i o n , a n d  o t he r  e ve r y d a y  n e c e s s i t i e s\\nd u r i n g  a  pandemic .  T h i s  t o o l k i t  w i l l  a l l o w  y o u  t o  t h i n k  t hr o u g h  a l l  t he  i n d i vi d u a l\\nn e e d s  o f  y o u r  f a m i l y , s p e c i f i c a l l y  t ho s e  t h a t  a r e  u n i q u e  t o  c hi l d r e n  w i t h',\n",
              " 'n e e d s  o f  y o u r  f a m i l y , s p e c i f i c a l l y  t ho s e  t h a t  a r e  u n i q u e  t o  c hi l d r e n  w i t h\\nd i s a b i l i t i e s .   Templates  a r e  p r o v i d e d  t o  c r e a t e  y o u r  o w n  e m e r g e n c y / pa n d e m i c\\np r e p a r e d n e s s  p l a n  t o  k e e p  y o u r  f a m i l y  s a f e  a n d  he a l t h y  i n  a  c r i s i s .  \\nEmergency Preparedness\\nS t a y  I n f o r m e d . . . . . . . . . . . . . . . . . . . . . . . . . . . . . . . . . . . . . . . . . . . . . . . . . . . . . . . . . . . . . . . . . . . . . . . . . . . . . . . . . . . . . . . . . . . . . . . . . . . . . . . . . . . . . . . . . . . . . . . . . . . . . . . . . . . . . . . . . . . . . . . . . . . . . . . . . . . . . . . . . . . . . . . . . . . . . 1',\n",
              " 'M a k e  a  P l a n . . . . . . . . . . . . . . . . . . . . . . . . . . . . . . . . . . . . . . . . . . . . . . . . . . . . . . . . . . . . . . . . . . . . . . . . . . . . . . . . . . . . . . . . . . . . . . . . . . . . . . . . . . . . . . . . . . . . . . . . . . . . . . . . . . . . . . . . . . . . . . . . . . . . . . . . . . . . . . . . . . . . . . . . . . . . . . . . 2\\nH a v e  a n  E m e r g e n c y  P r e p a r e d n e s s  K i t  R e a d y . . . . . . . . . . . . . . . . . . . . . . . . . . . . . . . . . . . . . . . . . . . . . . . . . . . . . . . . . . . . . . . . . . . . . . . . . . . . . . . . . . . . . . . . . . . . . . . . . 3',\n",
              " 'S u p p l i e s  t o  C o n s i d e r  B a s e d  o n  D i s a b i l i t y  T y p e . . . . . . . . . . . . . . . . . . . . . . . . . . . . . . . . . . . . . . . . . . . . . . . . . . . . . . . . . . . . . . . . . . . . . . . . . . . . . . . . . . . . . . . . . . . . . . . 4\\nE m e r g e n c y  P r e p a r e d n e s s  P l a n  O u t l i n e . . . . . . . . . . . . . . . . . . . . . . . . . . . . . . . . . . . . . . . . . . . . . . . . . . . . . . . . . . . . . . . . . . . . . . . . . . . . . . . . . . . . . . . . . . . . . . . . . . . . . . . . . . . . . . . . . 5',\n",
              " 'E m e r g e n c y  P r e p a r e d n e s s  B a s i c  C h e c k l i s t . . . . . . . . . . . . . . . . . . . . . . . . . . . . . . . . . . . . . . . . . . . . . . . . . . . . . . . . . . . . . . . . . . . . . . . . . . . . . . . . . . . . . . . . . . . . . . . . . . . . . . . . . . . . 6\\nE m e r g e n c y  P r e p a r e d n e s s  C h e c k l i s t  f o r  C h i l d r e n  w i t h  S p e c i a l  H e a l t h c a r e  N e e d s . . . . . . . . . . . . . . 7\\nE m e r g e n c y  P r e p a r e d n e s s  C h e c k l i s t  f o r  A d d i t i o n a l  F a m i l y  M e m b e r s . . . . . . . . . . . . . . . . . . . . . . . . . . . . . . . . . . . . . . . . . . 8',\n",
              " 'E m e r g e n c y  C o n t a c t s . . . . . . . . . . . . . . . . . . . . . . . . . . . . . . . . . . . . . . . . . . . . . . . . . . . . . . . . . . . . . . . . . . . . . . . . . . . . . . . . . . . . . . . . . . . . . . . . . . . . . . . . . . . . . . . . . . . . . . . . . . . . . . . . . . . . . . . . . . . . . . . . . . . . . . . . . . . . 9\\nM e d i c a l  C o n t a c t s / I n f o . . . . . . . . . . . . . . . . . . . . . . . . . . . . . . . . . . . . . . . . . . . . . . . . . . . . . . . . . . . . . . . . . . . . . . . . . . . . . . . . . . . . . . . . . . . . . . . . . . . . . . . . . . . . . . . . . . . . . . . . 1 0 , 1 1\\nPandemic Preparedness',\n",
              " 'Pandemic Preparedness\\nP r e p a r i n g  f o r  a  P a n d e m i c  &  D u r i n g  a  P a n d e m i c . . . . . . . . . . . . . . . . . . . . . . . . . . . . . . . . . . . . . . . . . . . . . . . . . . . . . . . . . . . . . . . . . . . . . . . . . . . . . . . . . . . . . . . . . 1 2\\nO u t b r e a k  P l a n . . . . . . . . . . . . . . . . . . . . . . . . . . . . . . . . . . . . . . . . . . . . . . . . . . . . . . . . . . . . . . . . . . . . . . . . . . . . . . . . . . . . . . . . . . . . . . . . . . . . . . . . . . . . . . . . . . . . . . . . . . . . . . . . . . . . . . . . . . . . . . . . . . . . . . . . . . . . . . . . . . . . . . . . . . 1 3',\n",
              " 'E s s e n t i a l  R e s o u r c e s :  F o o d  B a n k s  &  F i n a n c i a l  R e s o u r c e s . . . . . . . . . . . . . . . . . . . . . . . . . . . . . . . . . . . . . . . . . . . . . . . . . . . . . . . . . . . . . . . . . . . . . . . . . 1 4\\nL o c a l  H e a l t h  C l i n i c s ,  T e s t i n g  s i t e s ,  V a c c i n e  s i t e s . . . . . . . . . . . . . . . . . . . . . . . . . . . . . . . . . . . . . . . . . . . . . . . . . . . . . . . . . . . . . . . . . . . . . . . . . . . . . . . . . . . . . . . . . . . 1 5\\nT i p s  t o  P r o m o t e  W e l l - b e i n g ,  A f t e r  a  P a n d e m i c . . . . . . . . . . . . . . . . . . . . . . . . . . . . . . . . . . . . . . . . . . . . . . . . . . . . . . . . . . . . . . . . . . . . . . . . . . . . . . . . . . . . . . . . . . . . 1 6',\n",
              " 'R e s o u r c e s  &  R e f e r e n c e s . . . . . . . . . . . . . . . . . . . . . . . . . . . . . . . . . . . . . . . . . . . . . . . . . . . . . . . . . . . . . . . . . . . . . . . . . . . . . . . . . . . . . . . . . . . . . . . . . . . . . . . . . . . . . . . . . . . . . . . . . . . . . . . . . . . . . . . . . . . . . . . . . . . . . 1 7W a t e r\\nE l e c t r i c i t y\\nI n t e r n e t\\nC e l l  s e r v i c e\\nA i r  c o n d i t i o n i n g  \\nR e f r i g e r a t i o nStay Informed.\\nAssess how the emergency will affect the\\nfollowing:\\nP h a r m a c y  a c c e s s  \\nF a m i l y / f r i e n d  s u p p o r t\\nA b i l i t y  t o  l e a v e  h o m e\\nA b i l i t y  t o  r e t u r n  h o m e\\nH e a l t h c a r e  a c c e s s  \\nT r a n s p o r t a t i o nEmergency Preparedness',\n",
              " 'A b i l i t y  t o  l e a v e  h o m e\\nA b i l i t y  t o  r e t u r n  h o m e\\nH e a l t h c a r e  a c c e s s  \\nT r a n s p o r t a t i o nEmergency Preparedness\\nF a m i l i e s  o f  c h i l d r e n  w i t h  d i s a b i l i t i e s  m a y  h a v e  a d d i t i o n a l  o b s t a c l e s  d u r i n g  a n\\ne m e r g e n c y  s i t u a t i o n ,  m a k i n g  i t  e s p e c i a l l y  i m p o r t a n t  t o  p l a n  a h e a d  f o r  e m e r g e n c i e s .  \\nC o n t a c t  y o u r  l o c a l  emergency\\nmanagement office  t o  d e t e r m i n e  i f  y o u r\\nc i t y  o r  c o u n t y  h a s  a  r e g i s t r y  o f  i n d i v i d u a l s\\nw i t h  d i s a b i l i t i e s  t o  r e c e i v e  t a r g e t e d\\na s s i s t a n c e  d u r i n g  a  d i s a s t e r',\n",
              " 'w i t h  d i s a b i l i t i e s  t o  r e c e i v e  t a r g e t e d\\na s s i s t a n c e  d u r i n g  a  d i s a s t e r  \\nS a n t a  M o n i c a  O f f i c e  o f  E m e r g e n c y\\nM a n a g e m e n t  \\nh t t p s : / / w w w . s m g o v . n e t / d e p a r t m e n t s / o\\ne m /\\nC o n s i d e r  g e t t i n g  y o u r  benefits\\nelectronically  i f  y o u  d e p e n d  o n  S o c i a l\\nS e c u r i t y  o r  o t h e r  r e g u l a r  b e n e f i t s :\\nD i r e c t  d e p o s i t  t o  a  c h e c k i n g  o r  s a v i n g s\\na c c o u n t .  I f  y o u  g e t  f e d e r a l  b e n e f i t s\\ny o u  c a n  s i g n  u p  b y  c a l l i n g  8 0 0 - 3 3 3 -\\n1 7 9 5  o r  s i g n  u p  o n l i n e .\\nT h e  D i r e c t  E x p r e s s ®  p r e p a i d  d e b i t',\n",
              " 'y o u  c a n  s i g n  u p  b y  c a l l i n g  8 0 0 - 3 3 3 -\\n1 7 9 5  o r  s i g n  u p  o n l i n e .\\nT h e  D i r e c t  E x p r e s s ®  p r e p a i d  d e b i t\\nc a r d  i s  d e s i g n e d  a s  a  s a f e  a n d  e a s y\\na l t e r n a t i v e  t o  p a p e r  c h e c k s .  C a l l  t o l l -\\nf r e e  a t  8 7 7 - 2 1 2 - 9 9 9 1  o r  s i g n  u p  o n l i n e\\n For Individuals with Disabilities:Register for Alerts:\\nWill there be...?K n o w  w h a t  disasters c a n  a f f e c t  t h e  a r e a  y o u\\nl i v e  i n  a n d  w h a t  a d d e d  r i s k s  t h e r e  m a y  b e\\nd e p e n d i n g  o n  y o u r  l o c a t i o n\\nRegister  f o r :\\nS a n t a  M o n i c a  A l e r t s  (SMAlerts )\\nh t t p s : / / m e m b e r . e v e r b r i d g e . n e t / 4 3 1 7 0',\n",
              " 'd e p e n d i n g  o n  y o u r  l o c a t i o n\\nRegister  f o r :\\nS a n t a  M o n i c a  A l e r t s  (SMAlerts )\\nh t t p s : / / m e m b e r . e v e r b r i d g e . n e t / 4 3 1 7 0\\n0 0 4 7 8 2 2 8 8 7 / l o g i n\\nC i t y  o f  L o s  A n g e l e s  A l e r t s\\nh t t p s : / / m e m b e r . e v e r b r i d g e . n e t / 4 5 3 0 0\\n3 0 8 5 6 1 9 1 6 7 / n e w\\nA l e r t  L A  C o u n t y\\nh t t p s : / / p u b l i c . c o d e r e d w e b . c o m / C N E / e\\nn - U S / B F 5 E 2 0 5 B 1 D 6 9\\nE a r t h q u a k e  W a r n i n g  C a l i f o r n i a\\nh t t p s : / / e a r t h q u a k e . c a . g o v / g e t - a l e r t s /\\nD o w n l o a d  t h e  FEMA  a p p  t o  r e c e i v e  w e a t h e r\\na l e r t s\\n1H o w  y o u  w i l l  r e c e i v e  emergency',\n",
              " 'D o w n l o a d  t h e  FEMA  a p p  t o  r e c e i v e  w e a t h e r\\na l e r t s\\n1H o w  y o u  w i l l  r e c e i v e  emergency\\nalerts ,  w a r n i n g s ,  a n d  u p d a t e s\\nW h o  t o  c a l l  a n d  w h e r e  t o  evacuate t o\\nY o u r  shelter plan\\nY o u r  e v a c u a t i o n route\\nH o w  y o u r  f a m i l y  w i l l  f i n d  e a c h  o t h e r  i f\\nt h e y  g e t  s p l i t  u p  \\nY o u r  f a m i l y / h o u s e h o l d  communication\\nplanMake a Plan.Emergency Preparedness\\nPRIOR TO AN EMERGENCY, YOU SHOULD...E m e r g e n c y  s i t u a t i o n s  a r e  e x t r e m e l y  s t r e s s f u l .  H a v i n g  a  p l a n  c a n n o t  o n l y\\nm i n i m i z e  s t r e s s  b u t  c a n  k e e p  y o u r  f a m i l y  s a f e  a n d  p o t e n t i a l l y  s a v e  l i v e s .',\n",
              " 'm i n i m i z e  s t r e s s  b u t  c a n  k e e p  y o u r  f a m i l y  s a f e  a n d  p o t e n t i a l l y  s a v e  l i v e s .  \\nH a v e  a n  u p d a t e d  emergency kit\\nC r e a t e  a  network  o f  s u p p o r t  t o\\nh e l p  y o u  \\nH a v e  a  code word f o r  y o u r  c h i l d\\na n d  a  f a m i l y / f r i e n d  t o  u s e  ( c h i l d\\nw i l l  k n o w  t h e  c o d e  w o r d  m e a n s  t h e\\ni n d i v i d u a l  i s  s a f e  t o  l e a v e  w i t h  i n\\na n  e m e r g e n c y )\\nT e a c h  e a c h  f a m i l y  m e m b e r ,\\ne s p e c i a l l y  y o u r  c h i l d r e n , important\\ncontacts ,  i n c l u d i n g  n a m e s ,  p h o n e\\nn u m b e r s ,  a n d  a d d r e s s e s  \\nI f  y o u r  c h i l d  c a n n o t  m e m o r i z e',\n",
              " 'contacts ,  i n c l u d i n g  n a m e s ,  p h o n e\\nn u m b e r s ,  a n d  a d d r e s s e s  \\nI f  y o u r  c h i l d  c a n n o t  m e m o r i z e\\ni m p o r t a n t  c o n t a c t s ,  m a k e  s u r e  t h e y\\nh a v e  a  p h y s i c a l  o r  e l e c t r o n i c  c o p y\\nh a n d y  a t  a l l  t i m e s\\nP r a c t i c e  y o u r  emergency plan ( p g .\\n5 ) w i t h  y o u r  c h i l d r e n  t o  m a k e  s u r e\\nt h e y  k n o w  w h a t  t o  d o\\nM a k e  s u r e  f a m i l y  m e m b e r s  a n d\\nn e t w o r k  o f  s u p p o r t  k n o w  w h e r e\\nt h e  e m e r g e n c y  k i t  i s  s t o r e d...KNOW THE FOLLOWING: ...COMPLETE THE FOLLOWING:\\nCONSIDER THE FOLLOWING FOR\\n INDIVIDUALS WITH DISABILITIES:\\nC r e a t e  a  care plan  ( p g .  7 )  f o r  y o u r',\n",
              " 'CONSIDER THE FOLLOWING FOR\\n INDIVIDUALS WITH DISABILITIES:\\nC r e a t e  a  care plan  ( p g .  7 )  f o r  y o u r\\nc h i l d  w i t h  s p e c i a l  n e e d s\\nH a v e  a  medical alert tag o r  b r a c e l e t\\nf o r  y o u r  f a m i l y  m e m b e r s  w i t h\\nd i s a b i l i t i e s\\nI f  y o u  h a v e  a n i m a l s  t h a t  a r e  n o t\\nservice animals,  l o c a t e  s h e l t e r s  t h a t\\na l l o w  n o n - s e r v i c e  a n i m a l s  \\nC r e a t e  a list o f  n e a r b y  m e d i c a l\\nf a c i l i t i e s ,  l o c a l  h o s p i t a l s ,  a n d  n e a r e s t\\nt r a n s p o r t a t i o n  a n d  s t o r e  i n  y o u r\\ne m e r g e n c y  k i t\\n \\n2Emergency Preparedness\\nHAVE AN EMERGENCY KIT READY\\nWater  a n d  n o n - p e r i s h a b l e  foods',\n",
              " 't r a n s p o r t a t i o n  a n d  s t o r e  i n  y o u r\\ne m e r g e n c y  k i t\\n \\n2Emergency Preparedness\\nHAVE AN EMERGENCY KIT READY\\nWater  a n d  n o n - p e r i s h a b l e  foods\\nE x t r a  c e l l  p h o n e  b a t t e r y /charger\\nB a t t e r y - p o w e r e d  o r  h a n d  c r a n k  radio\\nt h a t  c a n  r e c e i v e  N O A A  W e a t h e r\\nR a d i o  a l e r t s  \\nE x t r a  batteries f o r  r a d i o\\nFlashlight ( e x t r a  b a t t e r i e s  f o r\\nf l a s h l i g h t )\\nFirst-Aid kit\\nWhistle  t o  s i g n a l  f o r  h e l p\\nI m p o r t a n t  documents  ( b i r t h  c e r t i f i c a t e ,\\np a s s p o r t s ,  b a n k  a c c o u n t  r e c o r d s )\\nP a p e r  a n d  p e n c i l\\nB o o k s ,  g a m e s ,  p u z z l e s ,  a n d  o t h e r\\nactivities  f o r  c h i l d r e n',\n",
              " 'p a s s p o r t s ,  b a n k  a c c o u n t  r e c o r d s )\\nP a p e r  a n d  p e n c i l\\nB o o k s ,  g a m e s ,  p u z z l e s ,  a n d  o t h e r\\nactivities  f o r  c h i l d r e n\\n D u s t  masks  t o  h e l p  f i l t e r  c o n t a m i n a t e d\\na i r\\nP l a s t i c  sheeting a n d  d u c t  tape  t o  s h e l t e r\\ni n  p l a c e\\nP e r s o n a l  sanitation/hygiene \\nN o n - s p a r k i n g  wrench o r  p l i e r s  t o  t u r n\\no f f  u t i l i t i e s  \\nCan opener  ( i f  k i t  c o n t a i n s  c a n n e d\\nf o o d )\\nL o c a l  maps\\nS l e e p i n g  b a g s / w a r m blankets\\nC o m p l e t e  c h a n g e  o f  clothing \\nFire extinguisher\\nCash\\nInfant formula a n d  diapers\\n \\nA  c u r r e n t  c o p y  o f  y o u r  c h i l d ’ s  Care\\nPlan ( p g .  7 )\\nC o m f o r t  t o y s',\n",
              " 'Fire extinguisher\\nCash\\nInfant formula a n d  diapers\\n \\nA  c u r r e n t  c o p y  o f  y o u r  c h i l d ’ s  Care\\nPlan ( p g .  7 )\\nC o m f o r t  t o y s\\nPet food,  w a t e r  a n d  s u p p l i e s  f o r  y o u r\\ns e r v i c e  a n i m a l\\nC o p i e s  o f  I m p o r t a n t  documents\\n( i n s u r a n c e  p o l i c i e s ,  I E P s ,  e t c . )\\nE m e r g e n c y  r e f e r e n c e  m a t e r i a l  (first\\naid book )A  l i s t  o f  t h e  s t y l e  a n d  s e r i a l  n u m b e r\\no f  medical devices  ( i n c l u d e\\ni n s t r u c t i o n s  f o r  o p e r a t i n g  e q u i p m e n t )\\nA  b a c k u p  s u p p l y  o f  oxygen i f\\nn e e d e d\\nA d d i t i o n a l  power supplies ( b a t t e r i e s )\\nS e v e r a l  d a y  s u p p l y  o f  prescription',\n",
              " 'A  b a c k u p  s u p p l y  o f  oxygen i f\\nn e e d e d\\nA d d i t i o n a l  power supplies ( b a t t e r i e s )\\nS e v e r a l  d a y  s u p p l y  o f  prescription\\nmedicineBASIC SUPPLIES:H a v e  a  b a g  r e a d y  t o  g r a b  a n d  g o  i n  a n  e m e r g e n c y .\\nSUPPLIES TO CONSIDER FOR INDIVIDUALS WITH DISABILITIES:\\n3Emergency Preparedness\\nSUPPLIES TO CONSIDER BASED ON DISABILITY TYPE\\nM a r k  e m e r g e n c y  s u p p l i e s  w i t h\\nBraille labels\\nH a v e  a n  audible list o f  e m e r g e n c y\\ns u p p l i e s  a n d  c o n t a c t s  o n  a  U S B  o r\\na n  a u d i o  f i l e\\nK e e p  a d d i t i o n a l  c o m m u n i c a t i o n\\ns u p p l i e s  i n  y o u r  k i t\\n SENSORY DISABILITY\\nE n s u r e  h a n d h e l d  electronic devices  a r e\\nc h a r g e d',\n",
              " 'K e e p  a d d i t i o n a l  c o m m u n i c a t i o n\\ns u p p l i e s  i n  y o u r  k i t\\n SENSORY DISABILITY\\nE n s u r e  h a n d h e l d  electronic devices  a r e\\nc h a r g e d\\nH a v e  s p a r e  c h a r g e r s\\nC o n s i d e r  h a v i n g  a  s m a l l  pop-up tent  t o\\nd e c r e a s e  v i s u a l  s t i m u l a t i o n  \\nH a v e  noise-cancelling headphones  o r  e a r p l u g s\\nt o  r e d u c e  a u d i t o r y  s t i m u l a t i o n  \\nH a v e  i t e m s  t h a t  soothe y o u / y o u r  c h i l d  s u c h  a s\\ns n a c k s ,  s t u f f e d  a n i m a l s ,  e t c .  \\nHearing-aid batteries\\nPen & paper  t o  c o m m u n i c a t e  i n  a n\\ne m e r g e n c y\\nBattery operated lantern t o  b e  a b l e\\nt o  c o m m u n i c a t e  i f  t h e  e l e c t r i c i t y  i s\\no u t',\n",
              " 'Pen & paper  t o  c o m m u n i c a t e  i n  a n\\ne m e r g e n c y\\nBattery operated lantern t o  b e  a b l e\\nt o  c o m m u n i c a t e  i f  t h e  e l e c t r i c i t y  i s\\no u t\\nC a r r y  printed cards o r  s t o r e\\ni n f o r m a t i o n  o n  y o u r  d e v i c e s  t o  i n f o r m\\nf i r s t  r e s p o n d e r s  a n d  o t h e r s  h o w  t o\\nc o m m u n i c a t e  w i t h  y o uH a v e  a  l i g h t w e i g h t  manual chair  a v a i l a b l e  i f\\ny o u  u s e  a  p o w e r  w h e e l c h a i r\\nM a k e  s u r e  o t h e r s  k n o w  h o w  t o  o p e r a t e  y o u r\\nw h e e l c h a i r\\nH a v e  a n  extra battery  f o r  a n y  b a t t e r y -\\no p e r a t e d  d e v i c e s  \\nH a v e  a  patch kit o r  c a n  o f  s e a l a n t  i f  d e v i c e  i s',\n",
              " 'w h e e l c h a i r\\nH a v e  a n  extra battery  f o r  a n y  b a t t e r y -\\no p e r a t e d  d e v i c e s  \\nH a v e  a  patch kit o r  c a n  o f  s e a l a n t  i f  d e v i c e  i s\\nn o t  p u n c t u r e  p r o o f\\nH a v e  a  p o r t a b l e  air pump\\nH a v e  a n  a d d i t i o n a l  d e v i c e  t o  a s s i s t  w i t h\\nm o b i l i t y  s u c h  a s  a  walker o r  c a n e\\nCommunicate  w i t h  n e i g h b o r s  t o  d e t e r m i n e\\nw h o  c a n / w i l l  a s s i s t  y o u  i n  evacuating \\n BLIND/LOW VISION\\nMOBILITY DISABILITY\\nDEAF/HARD OF HEARINGI f  y o u  u s e  a n y  assistive devices,  k e e p  m o d e l  i n f o r m a t i o n  a n d  d e t e r m i n e  h o w  y o u\\nw i l l  r e p l a c e  d e v i c e  i f  l o s t / d e s t r o y e d',\n",
              " 'w i l l  r e p l a c e  d e v i c e  i f  l o s t / d e s t r o y e d\\nH a v e  b a c k  u p  p l a n  o f  c o m m u n i c a t i o n  s u c h  a s  laminated cards w i t h  p h r a s e s\\na n d / o r  p i c t o g r a m s\\nC a r r y  p r i n t e d  c a r d s  o r  s t o r e  i n f o r m a t i o n  o n  y o u r  d e v i c e s  t o  i n f o r m  first responders\\na n d  o t h e r s  h o w  t o  c o m m u n i c a t e  w i t h  y o uSPEECH DISABILITY\\n4Emergency Preparedness Plan\\nEVACUATION LOCATION #1: EVACUATION LOCATION #2:OUTLINE:\\n5W a t e r\\nN o n - p e r i s h a b l e  f o o d s\\nC e l l - p h o n e  c h a r g e r ,  e x t r a  b a t t e r i e s\\nB a t t e r y - p o w e r e d  o r  h a n d  c r a n k  r a d i o\\nF l a s h l i g h t\\nF i r s t - A i d  K i t\\nC a s h',\n",
              " 'C e l l - p h o n e  c h a r g e r ,  e x t r a  b a t t e r i e s\\nB a t t e r y - p o w e r e d  o r  h a n d  c r a n k  r a d i o\\nF l a s h l i g h t\\nF i r s t - A i d  K i t\\nC a s h\\nF e m i n i n e  s u p p l i e s ,  p e r s o n a l  h y g i e n e  i t e m s\\nH a n d  s a n i t i z e r\\nG a r b a g e  b a g s\\nP l a s t i c  t i e s\\nW h i s t l e\\nF a c e  M a s k s\\nC o p i e s  o f  I m p o r t a n t  f a m i l y  d o c u m e n t s  ( i n s u r a n c e\\np o l i c i e s ,  p a s s p o r t s ,  e t c . )  Emergency Preparedness Checklist\\nBasic Supplies\\n6Name:\\nMedications:                                 Care Plan:\\nMedical Devices:                            Other:Emergency Care Plan\\nFor Children with Special Healthcare Needs\\nName:\\nMedications:                                 Care Plan:',\n",
              " 'Medical Devices:                            Other:Emergency Care Plan\\nFor Children with Special Healthcare Needs\\nName:\\nMedications:                                 Care Plan:\\nMedical Devices:                            Other:\\n7Name:\\nName:Emergency Care Plan\\nFor Additional Family Members\\nName:Name:\\n8Emergency Contacts\\nNAME:____________________ NAME:____________________NAME:____________________\\nRelationship:\\nPhone #:\\nAddress:NAME:____________________\\nRelationship:\\nPhone #:\\nAddress:\\nRelationship:\\nPhone #:\\nAddress:Relationship:\\nPhone #:\\nAddress:\\n9Medical Contacts/Info\\nPhone #:\\nEmail:\\nPolicy #:\\nOther:Phone #:\\nEmail:\\nAddress:\\nOther:Specialty:\\nPhone #:\\nAddress:PHYSICIAN: _______________ PHYSICIAN: _______________\\nMEDICAL INSURANCE OTHER:___________________Specialty:\\nPhone #:\\nAddress:',\n",
              " 'Policy #:\\nOther:Phone #:\\nEmail:\\nAddress:\\nOther:Specialty:\\nPhone #:\\nAddress:PHYSICIAN: _______________ PHYSICIAN: _______________\\nMEDICAL INSURANCE OTHER:___________________Specialty:\\nPhone #:\\nAddress:\\n1 0Medical Contacts/Info\\nPhone #:\\nEmail:\\nPolicy #:\\nOther:Phone #:\\nEmail:\\nAddress:\\nOther:Specialty:\\nPhone #:\\nAddress:PHYSICIAN: _______________ PHYSICIAN: _______________\\nMEDICAL INSURANCE OTHER:___________________Specialty:\\nPhone #:\\nAddress:\\n1 1Preparing for a pandemic.Pandemic Preparedness\\nT o  p r e p a r e  f o r  a  p a n d e m i c ,  i t ’ s  i m p o r t a n t  t o  u n d e r s t a n d  w h a t  a  p a n d e m i c  i s  a n d  h o w\\nd i s e a s e  i s  s p r e a d .  A  pandemic  i s  a n  o u t b r e a k  o f  a  d i s e a s e  t h a t  s p r e a d s  a c r o s s  t h e  g l o b e .',\n",
              " \"d i s e a s e  i s  s p r e a d .  A  pandemic  i s  a n  o u t b r e a k  o f  a  d i s e a s e  t h a t  s p r e a d s  a c r o s s  t h e  g l o b e .\\nP a n d e m i c s  a r e  h a r d  t o  p r e d i c t ,  c a n  s t a r t  a n y w h e r e ,  a n d  s p r e a d  v e r y  q u i c k l y .  Diseases\\nc a n  b e  s p r e a d  d i r e c t l y  f r o m  p e r s o n  t o  p e r s o n ,  f r o m  g e r m s  o n  o b j e c t s ,  a n d  f r o m  p e o p l e\\nw h o  d o n ' t  l o o k  s i c k .BECOME INFORMED\\nHAVE A PLAN\\nD e v e l o p  a  p l a n  i n  a n t i c i p a t i o n  o f  s c h o o l s ,  w o r k p l a c e s ,  a n d  c o m m u n i t y  c e n t e r s  closing\\nU p d a t e  y o u r  emergency kit  a n d  a d d  a p p r o p r i a t e  s u p p l i e s\",\n",
              " 'U p d a t e  y o u r  emergency kit  a n d  a d d  a p p r o p r i a t e  s u p p l i e s\\nH a v e  a n  “outbreak plan ”  ( p g .  1 3 )  i f  a  f a m i l y  m e m b e r  b e c o m e s  i n f e c t e d\\nS p e a k  w i t h  y o u r  h e a l t h c a r e  p r o v i d e r  t o  e n s u r e  y o u  h a v e  a c c e s s  t o  Telehealth  s e r v i c e s\\nREDUCING RISK\\nWash hands f r e q u e n t l y\\nA v o i d  t o u c h i n g  f a c e\\nS a n i t i z e  a n d  disinfect\\n\" h i g h - t o u c h \"  o b j e c t s\\nAvoid 3 C\\'s :  c l o s e d\\ns p a c e s ,  c r o w d e d  s p a c e s ,\\nc l o s e - c o n t a c t\\nW e a r  face masks  i n\\np u b l i c  ( 2  y e a r s  &\\na b o v e )  \\nStay home i f  p o s s i b l e\\nScreen  f o r  d i s e a s e  \\nG e t  vaccinated  o n c e\\na v a i l a b l e',\n",
              " 'W e a r  face masks  i n\\np u b l i c  ( 2  y e a r s  &\\na b o v e )  \\nStay home i f  p o s s i b l e\\nScreen  f o r  d i s e a s e  \\nG e t  vaccinated  o n c e\\na v a i l a b l e\\nF o l l o w  guidance  f r o m\\ny o u r  h e a l t h c a r e\\np r o v i d e r ,  l o c a l  p u b l i c\\nh e a l t h  o f f i c e ,  a n d  C D CU s e  T e l e h e a l t h  s e r v i c e s  \\nF o r  visually/hearing\\nimpaired c h i l d r e n  v i s i t\\nh e a l t h y c h i l d r e n . o r g  t o\\nf i n d  t o o l s  t o  h e l p  w i t h\\nv i r t u a l  v i s i t s\\nU s e  home-based lab\\ndraws  a n d  d i a g n o s t i c\\ni m a g i n g  t e s t s  \\nF o r  i n - p e r s o n\\na p p o i n t m e n t s ,  wait in\\nyour car  i n s t e a d  o f  t h e\\nw a i t i n g  r o o m\\nP i c k  u p  school meals  i n',\n",
              " \"i m a g i n g  t e s t s  \\nF o r  i n - p e r s o n\\na p p o i n t m e n t s ,  wait in\\nyour car  i n s t e a d  o f  t h e\\nw a i t i n g  r o o m\\nP i c k  u p  school meals  i n\\nb a t c h e s  o r  h a v e  t h e m\\nd e l i v e r e d  t o  y o u r  h o m e\\ni f  c h i l d  i s  i n  r e m o t e\\nc l a s s e sI s  i t  s a f e  f o r  m y  c h i l d  t o\\nr e t u r n  t o  i n - p e r s o n\\nschool ?\\nW h a t  a c c o m m o d a t i o n s\\no r  safety precautions\\ns h o u l d  m y  c h i l d ' s  s c h o o l\\nb e  t a k i n g ?\\nI f  c h i l d  i s  immuno-\\ncompromised:  d o e s  m y\\nc h i l d  n e e d  ( 1 )  h i g h e r\\ng r a d e  P P E ,  ( 2 )  f r e q u e n t\\ns c r e e n i n g  ( e . g .  C O V I D\\nt e s t i n g ) ,  ( 3 )  t e s t i n g  o f\\nc l o s e  c o n t a c t s ?\",\n",
              " \"c h i l d  n e e d  ( 1 )  h i g h e r\\ng r a d e  P P E ,  ( 2 )  f r e q u e n t\\ns c r e e n i n g  ( e . g .  C O V I D\\nt e s t i n g ) ,  ( 3 )  t e s t i n g  o f\\nc l o s e  c o n t a c t s ?\\nI f  c h i l d  i s  hearing/speech\\nimpaired :  d o e s  m y  c h i l d\\nn e e d  a  t r a n s p a r e n t  f a c e\\nm a s k / f a c e  s h i e l d ?1 .\\n2 .\\n3 .\\n4 .QUESTIONS FOR YOUR\\nCHILD'S PHYSICIANDuring a pandemic.\\nTIPS FOR CHILDREN\\nWITH DISABILITIES\\n1 2Pandemic Preparedness\\nO U T B R E A K  P L A N\\nW h e n  c r e a t i n g  y o u r  o u t b r e a k  p l a n ,  c o n s i d e r  w h o  w i l l  n e e d  t o  b e  n o t i f i e d\\n( p h y s i c i a n s ,  w o r k ,  s c h o o l ,  e t c . ) ,  w h e r e  n e a r b y  h o s p i t a l s  a r e ,  h o w  y o u  w i l l  b e\",\n",
              " '( p h y s i c i a n s ,  w o r k ,  s c h o o l ,  e t c . ) ,  w h e r e  n e a r b y  h o s p i t a l s  a r e ,  h o w  y o u  w i l l  b e\\na c c e s s i n g  f o o d ,  a n d  w h o  w i l l  b e  a b l e  t o  w a t c h  y o u r  c h i l d r e n  i f  n e e d e d .  \\n1 3Pandemic Preparedness\\nD u r i n g  a  p a n d e m i c .\\nESSENTIAL RESOURCES\\nW e s t s i d e  F o o d  B a n k\\n1 7 1 0  2 2 n d  S t .\\nS a n t a  M o n i c a ,  C A  9 0 4 0 4\\n( 3 1 0 )  8 2 8 - 6 0 1 6\\nh t t p s : / / w w w . w s f b . o r g /\\nF o o d  D i s t r i b u t i o n  C e n t e r  -  W S F B  -\\nO c e a n  P a r k  C o m m u n i t y  C e n t e r\\n5 0 3  O l y m p i c  B l v d .\\nS a n t a  M o n i c a ,  C A  9 0 4 0 1\\n( 3 1 0 )  4 5 0 - 4 0 5 0F o o d  D i s t r i b u t i o n  C e n t e r  -  W S F B / S t e p',\n",
              " '5 0 3  O l y m p i c  B l v d .\\nS a n t a  M o n i c a ,  C A  9 0 4 0 1\\n( 3 1 0 )  4 5 0 - 4 0 5 0F o o d  D i s t r i b u t i o n  C e n t e r  -  W S F B / S t e p\\nU p  O n  S e c o n d\\n1 3 2 8  2 n d  S t .\\nS a n t a  M o n i c a ,  C A  9 0 4 0 1\\n( 3 1 0 )  3 9 4 - 6 8 8 9\\nF o o d  D i s t r i b u t i o n  C e n t e r  -  \\nS a i n t  J o s e p h  C e n t e r\\n2 0 4  H a m p t o n  D r .\\nV e n i c e ,  C A  9 0 2 9 1\\n( 3 1 0 )  3 9 6 - 6 4 6 8\\nB e g i n  a n  e m e r g e n c y  s a v i n g s\\na c c o u n t\\nC o n t a c t  y o u r  i n s u r a n c e  A S A P  a f t e r\\na  d i s a s t e r\\nR e v i e w  i n s u r a n c e  p o l i c i e s  t o  m a k e\\ns u r e  y o u  a r e  c o v e r e d  f o r  n a t u r a l\\nd i s a s t e r s  \\nR e n e w  y o u r  i n s u r a n c e  a n n u a l l y',\n",
              " 'R e v i e w  i n s u r a n c e  p o l i c i e s  t o  m a k e\\ns u r e  y o u  a r e  c o v e r e d  f o r  n a t u r a l\\nd i s a s t e r s  \\nR e n e w  y o u r  i n s u r a n c e  a n n u a l l y  \\nT a k e  p h o t o s  o f  y o u  p r o p e r t y  t o\\np o t e n t i a l l y  r e b u i l d\\nF o r  m o r e  i n f o  v i s i t :  \\n h t t p s : / / w w w . r e a d y . g o v / f i n a n c i a l -\\np r e p a r e d n e s sFOOD BANKS IN SANTA MONICA\\nFINANCIAL TIPS\\nF i n a n c i a l  P r e p a r e d n e s s :\\nh t t p s : / / w w w . r e a d y . g o v / f i n a n c i a l -\\np r e p a r e d n e s s\\nC a l W O R K S  ( T A N F ) :  a  w e l f a r e\\np r o g r a m  t h a t  g i v e s  c a s h  a i d  a n d\\ns e r v i c e s  t o  e l i g i b l e  n e e d y  C a l i f o r n i a\\nf a m i l i e s .',\n",
              " 'C a l W O R K S  ( T A N F ) :  a  w e l f a r e\\np r o g r a m  t h a t  g i v e s  c a s h  a i d  a n d\\ns e r v i c e s  t o  e l i g i b l e  n e e d y  C a l i f o r n i a\\nf a m i l i e s .\\nh t t p s : / / w w w . b e n e f i t s . g o v / b e n e f i t / 1 2 2 9\\nC i t y  o f  L o s  A n g e l e s  P u b l i c  A s s i s t a n c e :\\nh t t p s : / / l a c o u n t y . g o v / r e s i d e n t s / s o c i a l -\\ns e r v i c e s / p u b l i c - a s s i s t a n c e /\\nC a l F r e s h :\\nh t t p s : / / w w w . g e t c a l f r e s h . o r g /FINANCIAL RESOURCES\\n1 4Pandemic Preparedness\\nVenice Family Clinic at Santa Monica\\nHigh School\\n6 0 1  P i c o  B l v d\\nS a n t a  M o n i c a ,  C A  -  9 0 4 0 5\\n( 3 1 0 )  3 9 2 - 8 6 3 6\\nVenice Family Clinic At OPCC\\nAnnenberg Access Center',\n",
              " 'Venice Family Clinic at Santa Monica\\nHigh School\\n6 0 1  P i c o  B l v d\\nS a n t a  M o n i c a ,  C A  -  9 0 4 0 5\\n( 3 1 0 )  3 9 2 - 8 6 3 6\\nVenice Family Clinic At OPCC\\nAnnenberg Access Center\\n5 0 3  O l y m p i c  B l v d\\nS a n t a  M o n i c a ,  C A  -  9 0 4 0 1\\n( 3 1 0 )  3 9 2 - 8 6 3 6\\nVenice Family Clinic - Simms Mann\\nHealth And Wellness Center\\n2 5 0 9  P i c o  B l v d .\\nS a n t a  M o n i c a ,  C A  -  9 0 4 0 5\\n( 3 1 0 )  3 9 2 - 8 6 3 6Westside Family Health Center\\n1 7 1 1  O c e a n  P a r k  B l v d .\\nS a n t a  M o n i c a ,  C A  -  9 0 4 0 5\\nV e n i c e  F a m i l y  C l i n i c  -  D a y b r e a k  D a y\\nC e n t e r\\n1 6 1 4  O c e a n  A v e .\\nS a n t a  M o n i c a ,  C A  -  9 0 4 0 1\\n3 1 0 - 3 9 2 - 8 6 3 6\\nVenice Family Clinic - Opcc Safe',\n",
              " 'C e n t e r\\n1 6 1 4  O c e a n  A v e .\\nS a n t a  M o n i c a ,  C A  -  9 0 4 0 1\\n3 1 0 - 3 9 2 - 8 6 3 6\\nVenice Family Clinic - Opcc Safe\\nHaven & Daybreak Shelters\\n1 7 5 1  C l o v e r f i e l d  B l v d .\\nS a n t a  M o n i c a ,  C A  -  9 0 4 0 4\\nV i s i t :  https://dhs.lacounty.gov/\\nf o r  o t h e r  l o c a t i o n s\\nE n t e r  y o u r  l o c a t i o n\\nF i n d  a  f r e e  t e s t i n g  s i t e  n e a r  y o u\\nB o o k  a n  a p p o i n t m e n t  t o  a v o i d  l o n g\\nw a i t  t i m e sFinding a COVID testing site:\\nh t t p s : / / c o v i d 1 9 . l a c o u n t y . g o v / t e s t i n g /Finding a COVID vaccine site:\\nh t t p s : / / w w w . v a c c i n e s . g o v /\\nS e l e c t  “ F i n d  C O V I D - 1 9  V a c c i n e s ”',\n",
              " 'h t t p s : / / w w w . v a c c i n e s . g o v /\\nS e l e c t  “ F i n d  C O V I D - 1 9  V a c c i n e s ”\\nE n t e r  Z i p  C o d e  a n d  s e l e c t  “ s e a r c h  f o r\\nv a c c i n e s ”\\nS e l e c t  a  s i t e\\nS e l e c t  “ b o o k  a n  a p p o i n t m e n t \"LOCAL HEALTH CLINICS\\n1 5R e c o g n i z e  w h e n  y o u  n e e d  a  b r e a k\\nT a k e  c a r e  o f  y o u r  p h y s i c a l  h e a l t h  s i n c e\\ni t  a f f e c t s  y o u r  m e n t a l  h e a l t h\\nE n g a g e  i n  p h y s i c a l  a c t i v i t y  r e g u l a r l y\\nM e d i t a t e  \\nA v o i d  u n h e a l t h y  f o o d s  ( h i g h  f a t ,\\nh i g h  s u g a r ,  l i t t l e  n u t r i t i o n a l  v a l u e )\\nI n c r e a s e  y o u r  f r u i t  a n d  v e g e t a b l e\\ni n t a k e',\n",
              " 'h i g h  s u g a r ,  l i t t l e  n u t r i t i o n a l  v a l u e )\\nI n c r e a s e  y o u r  f r u i t  a n d  v e g e t a b l e\\ni n t a k e\\nP a r t i c i p a t e  i n  a n  a c t i v i t y / h o b b y  y o u\\ne n j o y\\nC o n n e c t  w i t h  l o v e d  o n e s  v i r t u a l l y\\nt h r o u g h  v i d e o  c h a t ,  s o c i a l  m e d i a ,\\nt e x t i n g ,  o r  c a l l i n gPandemic Preparedness\\nE n c o u r a g e  f a m i l y  m e m b e r s  t o  c o m e  u p\\nw i t h  c r e a t i v e  a c t i v i t i e s  t o  d o  t o  s t a y\\na c t i v e  a n d  h e a l t h y\\nT r y  t o  s p e n d  t i m e  o u t s i d e  i n  n a t u r e  \\nM o n i t o r  y o u r  c h i l d ’ s  e m o t i o n a l  h e a l t h\\nT a l k  t o  t h e m  a b o u t  w h a t e v e r',\n",
              " 'T r y  t o  s p e n d  t i m e  o u t s i d e  i n  n a t u r e  \\nM o n i t o r  y o u r  c h i l d ’ s  e m o t i o n a l  h e a l t h\\nT a l k  t o  t h e m  a b o u t  w h a t e v e r\\nc o n c e r n s  o r  f e e l i n g s  t h e y  m a y  h a v e\\nC o n s i d e r  c o g n i t i v e - b e h a v i o r a l  t h e r a p y\\n( v i r t u a l )  f o r  y o u r s e l f  o r  y o u r  c h i l d\\nT a l k  t o  y o u r  c h i l d ’ s  p e d i a t r i c i a n  a b o u t\\na n y  m e n t a l  h e a l t h  c o n c e r n s  y o u  m a y\\nh a v e  a b o u t  y o u r  c h i l d\\nI f  y o u  a r e  e x p e r i e n c i n g  m e n t a l  h e a l t h\\nc h a l l e n g e s  o f  y o u r  o w n ,  t a l k  t o  y o u r',\n",
              " 'h a v e  a b o u t  y o u r  c h i l d\\nI f  y o u  a r e  e x p e r i e n c i n g  m e n t a l  h e a l t h\\nc h a l l e n g e s  o f  y o u r  o w n ,  t a l k  t o  y o u r\\nh e a l t h c a r e  p r o v i d e rTIPS TO PROMOTE WELL-BEING:F a m i l i e s  o f  c h i l d r e n  w i t h  d i s a b i l i t i e s  e x p e r i e n c e  i n c r e a s e d  l e v e l s  o f  s t r e s s  i n  c o m p a r i s o n  t o\\no t h e r  f a m i l i e s .  A  p a n d e m i c  o n l y  c r e a t e s  a d d i t i o n a l  s t r e s s o r s ,  m a k i n g  i t  e s p e c i a l l y  i m p o r t a n t\\nf o r  p a r e n t s  o f  c h i l d r e n  w i t h  d i s a b i l i t i e s  t o  t a k e  c a r e  o f  t h e i r  o v e r a l l  w e l l - b e i n g .  \\nA f t e r  a  p a n d e m i c .',\n",
              " 'f o r  p a r e n t s  o f  c h i l d r e n  w i t h  d i s a b i l i t i e s  t o  t a k e  c a r e  o f  t h e i r  o v e r a l l  w e l l - b e i n g .  \\nA f t e r  a  p a n d e m i c .\\nC o n t i n u e  t o  t a k e  t h e  f o l l o w i n g  p r e c a u t i o n s :\\nS t a y  h o m e  w h e n  s i c k\\nF o l l o w  g u i d a n c e  o f  h e a l t h c a r e  p r o v i d e r  a n d  C D C\\nC o v e r  c o u g h s  a n d  s n e e z e s  \\nW a s h  h a n d s  f r e q u e n t l y\\nW e a r  f a c e  m a s k  i n  p u b l i c  s p a c e s  i f  s i c k\\nF o l l o w  l o c a l  p u b l i c  h e a l t h  g u i d a n c e  \\nM a k e  a n y  u p d a t e s  t o  y o u r  e m e r g e n c y  p l a n  a n d  r e s t o c k  y o u r  e m e r g e n c y  k i t\\n1 6SAMHSA’s National Helpline ( f r e e ,  2 4 / 7 )',\n",
              " 'M a k e  a n y  u p d a t e s  t o  y o u r  e m e r g e n c y  p l a n  a n d  r e s t o c k  y o u r  e m e r g e n c y  k i t\\n1 6SAMHSA’s National Helpline ( f r e e ,  2 4 / 7 )\\nh t t p s : / / w w w . s a m h s a . g o v / f i n d - h e l p / n a t i o n a l -\\nh e l p l i n e\\n1 - 8 0 0 - 6 6 2 - H E L P  ( 4 3 5 7 )Open Counseling ( f r e e / l o w - c o s t  t h e r a p y )\\nh t t p s : / / w w w . o p e n c o u n s e l i n g . c o m / c a l i f o r n i a /Resources & References\\nT h i s  t o o l k i t  w a s  d e v e l o p e d  f r o m  t h e  f o l l o w i n g  r e s o u r c e s .  V i s i t\\nt h e  f o l l o w i n g  w e b s i t e s  f o r  a d d i t i o n a l  i n f o r m a t i o n .\\nR e a d y . g o v / F E M A :',\n",
              " 't h e  f o l l o w i n g  w e b s i t e s  f o r  a d d i t i o n a l  i n f o r m a t i o n .\\nR e a d y . g o v / F E M A :\\nr e a d y . g o v / p l a n  a n d  r e a d y . g o v / d i s a b i l i t y\\nS a n t a  M o n i c a  A l e r t s  ( S M A l e r t s ) :\\nh t t p s : / / m e m b e r . e v e r b r i d g e . n e t / 4 3 1 7 0 0 0 4 7 8 2 2 8 8 7 / l o g i n\\nS a n t a  M o n i c a  O f f i c e  o f  E m e r g e n c y  M a n a g e m e n t :\\nh t t p s : / / w w w . s m g o v . n e t / d e p a r t m e n t s / o e m /\\nh t t p s : / / w w w . s m g o v . n e t / D e p a r t m e n t s / C M O / c o n t e n t . a s p x ? i d = 5 3 6 8 7 0 9 9 1 2 7\\nA m e r i c a n  A c a d e m y  o f  P e d i a t r i c s :  H e a l t h y  C h i l d r e n',\n",
              " 'A m e r i c a n  A c a d e m y  o f  P e d i a t r i c s :  H e a l t h y  C h i l d r e n\\nh t t p s : / / w w w . h e a l t h y c h i l d r e n . o r g / E n g l i s h / h e a l t h - i s s u e s / c o n d i t i o n s / C O V I D -\\n1 9 / P a g e s / C O V I D - 1 9 - Y o u t h - w i t h - S p e c i a l - H e a l t h - C a r e - N e e d s . a s p x\\nA m e r i c a n  A c a d e m y  o f  P e d i a t r i c s :\\nh t t p s : / / w w w . a a p . o r g / e n / p a g e s / 2 0 1 9 - n o v e l - c o r o n a v i r u s - c o v i d - 1 9 - i n f e c t i o n s / c l i n i c a l -\\ng u i d a n c e / c a r i n g - f o r - c h i l d r e n - a n d - y o u t h - w i t h - s p e c i a l - h e a l t h - c a r e - n e e d s - d u r i n g - t h e -\\nc o v i d - 1 9 - p a n d e m i c /',\n",
              " 'g u i d a n c e / c a r i n g - f o r - c h i l d r e n - a n d - y o u t h - w i t h - s p e c i a l - h e a l t h - c a r e - n e e d s - d u r i n g - t h e -\\nc o v i d - 1 9 - p a n d e m i c /\\nThis project is supported and funded by the Health Resources and Services Administration (HRSA) of the U.S. Department of Health and\\nHuman Services (HHS) under award UA6MC32492, the Life Course Intervention Research Network. The information, content and/or\\nconclusions are those of the author and should not be construed as the official position or policy of, nor should any endorsements be\\ninferred by HRSA, HHS or the U.S. Government.   The research team led by Dr. Priyanka Fernandes and Dr. Denise Nunez were instructive\\nin creating this resource for public use. 1 7N o t e s :']"
            ]
          },
          "execution_count": 14,
          "metadata": {},
          "output_type": "execute_result"
        }
      ],
      "source": [
        "texts[:50]"
      ]
    },
    {
      "cell_type": "markdown",
      "metadata": {
        "id": "URUqVY0m2kGk"
      },
      "source": [
        "Loading data into the vetor store"
      ]
    },
    {
      "cell_type": "code",
      "execution_count": null,
      "metadata": {
        "colab": {
          "base_uri": "https://localhost:8080/"
        },
        "id": "60bPpK-p1bLH",
        "outputId": "0859cb32-39d3-4e68-a42d-9d75897ce8dd"
      },
      "outputs": [
        {
          "name": "stdout",
          "output_type": "stream",
          "text": [
            "inserted 49 headlines.\n"
          ]
        }
      ],
      "source": [
        "astra_vector_store.add_texts(texts[:50])\n",
        "print(\"inserted %i headlines.\" %len(texts[:50]))\n",
        "astra_vector_index = VectorStoreIndexWrapper(vectorstore = astra_vector_store)"
      ]
    },
    {
      "cell_type": "code",
      "execution_count": null,
      "metadata": {
        "colab": {
          "background_save": true,
          "base_uri": "https://localhost:8080/"
        },
        "id": "8bWdcBDZ4b9U",
        "outputId": "5928aa1b-073f-4a21-8f97-b9d8b54078bd"
      },
      "outputs": [
        {
          "name": "stdout",
          "output_type": "stream",
          "text": [
            "\n",
            "QUESTION: \"what happens in a pandemic\"\n"
          ]
        },
        {
          "name": "stderr",
          "output_type": "stream",
          "text": [
            "WARNING:cassandra.protocol:Server warning: Top-K queries can only be run with consistency level ONE / LOCAL_ONE / NODE_LOCAL. Consistency level LOCAL_QUORUM was requested. Downgrading the consistency level to LOCAL_ONE.\n"
          ]
        },
        {
          "name": "stdout",
          "output_type": "stream",
          "text": [
            "ANSWER: \"A pandemic is an outbreak of a disease that spreads across the globe. Pandemics are hard to predict, can start anywhere, and spread very quickly. Diseases can be spread directly from person to person, from germs on objects, and from people who don't look sick. In order to prepare for a pandemic, it is important to become informed and have a plan in place. This can include updating your emergency kit and having emergency contacts and medical information readily available. During a pandemic, schools, workplaces, and community centers may also close as a precautionary measure.\"\n",
            "\n",
            "FIRST DOCUMENTS BY RELEVANCE: \n"
          ]
        },
        {
          "name": "stderr",
          "output_type": "stream",
          "text": [
            "WARNING:cassandra.protocol:Server warning: Top-K queries can only be run with consistency level ONE / LOCAL_ONE / NODE_LOCAL. Consistency level LOCAL_QUORUM was requested. Downgrading the consistency level to LOCAL_ONE.\n"
          ]
        },
        {
          "name": "stdout",
          "output_type": "stream",
          "text": [
            " [0.9262] \"d i s e a s e  i s  s p r e a d .  A  pandemic  i s  a n  o u t b r e a k  o f  a  d...\"\n",
            " [0.9261] \"d i s e a s e  i s  s p r e a d .  A  pandemic  i s  a n  o u t b r e a k  o f  a  d...\"\n",
            " [0.9172] \"E m e r g e n c y  C o n t a c t s . . . . . . . . . . . . . . . . . . . . . . . . ....\"\n",
            " [0.9172] \"E m e r g e n c y  C o n t a c t s . . . . . . . . . . . . . . . . . . . . . . . . ....\"\n"
          ]
        }
      ],
      "source": [
        "first_question = True\n",
        "while True:\n",
        "  if first_question:\n",
        "    query_text = input(\"\\n Enter your question (or type 'quite' to exit): \").strip()\n",
        "  else:\n",
        "    query_text = input(\"\\n What is your next question (or type 'quit' to exit): \").strip()\n",
        "\n",
        "  if query_text == \"\":\n",
        "    continue\n",
        "  first_question = False\n",
        "  print(\"\\nQUESTION: \\\"%s\\\"\" % query_text)\n",
        "  answer = astra_vector_index.query(query_text, llm=llm).strip()\n",
        "  print(\"ANSWER: \\\"%s\\\"\\n\" % answer)\n",
        "\n",
        "  print(\"FIRST DOCUMENTS BY RELEVANCE: \")\n",
        "  for doc, score in astra_vector_store.similarity_search_with_score(query_text,k=4):\n",
        "    print(\" [%0.4f] \\\"%s...\\\"\"%(score, doc.page_content[:84]))\n",
        "\n"
      ]
    }
  ],
  "metadata": {
    "colab": {
      "provenance": [],
      "mount_file_id": "1XSJaSZ0QV-zFW1-KNNBwZCYKGIht0R9b",
      "authorship_tag": "ABX9TyNLo8pYMvQq17fWJKHRw0bC",
      "include_colab_link": true
    },
    "kernelspec": {
      "display_name": "Python 3",
      "name": "python3"
    },
    "language_info": {
      "name": "python"
    }
  },
  "nbformat": 4,
  "nbformat_minor": 0
}